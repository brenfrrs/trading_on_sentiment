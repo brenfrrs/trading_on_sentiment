{
 "cells": [
  {
   "cell_type": "code",
   "execution_count": 584,
   "metadata": {},
   "outputs": [],
   "source": [
    "import pandas as pd\n",
    "import numpy as np\n",
    "import pytz\n",
    "from sklearn.metrics import plot_roc_curve\n",
    "import matplotlib.pyplot as plt\n",
    "from sklearn.model_selection import train_test_split\n",
    "from sklearn import metrics\n",
    "from sklearn.metrics import confusion_matrix, accuracy_score, classification_report\n",
    "from sklearn.ensemble import RandomForestClassifier\n",
    "from sklearn.metrics import f1_score\n",
    "from sklearn.metrics import confusion_matrix\n",
    "from sklearn.model_selection import GridSearchCV\n",
    "from sklearn.naive_bayes import BernoulliNB\n",
    "from sklearn.dummy import DummyClassifier\n",
    "import matplotlib.pyplot as plt\n",
    "from sklearn.metrics import plot_precision_recall_curve\n",
    "from sklearn.feature_extraction.text import TfidfVectorizer \n",
    "import seaborn as sns\n",
    "from custom_scripts import *\n",
    "\n",
    "%matplotlib inline\n",
    "import warnings \n",
    "warnings.filterwarnings('ignore')"
   ]
  },
  {
   "cell_type": "markdown",
   "metadata": {},
   "source": [
    "# Trading on Sentiment"
   ]
  },
  {
   "cell_type": "markdown",
   "metadata": {},
   "source": [
    "### Modeling Notebook"
   ]
  },
  {
   "cell_type": "markdown",
   "metadata": {},
   "source": [
    "This notebook begins with two baseline models:\n",
    "- Baseline with only price data.\n",
    "- Baseline with only NLP data.\n",
    "\n",
    "All subsequent models are attempts to improve the performance of the baseline models."
   ]
  },
  {
   "cell_type": "markdown",
   "metadata": {},
   "source": [
    "###### Importing the Daily Aggregated Data"
   ]
  },
  {
   "cell_type": "code",
   "execution_count": 585,
   "metadata": {},
   "outputs": [],
   "source": [
    "data = pd.read_pickle(\"main_data/maindf.pkl\")\n",
    "data.increase = data.increase.astype(int)"
   ]
  },
  {
   "cell_type": "markdown",
   "metadata": {},
   "source": [
    "Using the `thresh` custom method, i'll apply the target labels using the day_change column. The threshold is the share amount change from [Day A open] to [Day B open].Current threshold is set to (.055) maintain class balance in for the 0/1 targets."
   ]
  },
  {
   "cell_type": "code",
   "execution_count": 586,
   "metadata": {},
   "outputs": [
    {
     "data": {
      "text/plain": [
       "0    694\n",
       "1    691\n",
       "Name: target, dtype: int64"
      ]
     },
     "execution_count": 586,
     "metadata": {},
     "output_type": "execute_result"
    }
   ],
   "source": [
    "# add the targets to the main dataframe. \n",
    "data['target'] = data['day_change'].apply(thresh)\n",
    "data.target.value_counts()"
   ]
  },
  {
   "cell_type": "markdown",
   "metadata": {},
   "source": [
    "# Splitting Data"
   ]
  },
  {
   "cell_type": "code",
   "execution_count": 587,
   "metadata": {},
   "outputs": [],
   "source": [
    "X = data.drop(columns=['increase', 'target'], axis=1)\n",
    "y = data.target"
   ]
  },
  {
   "cell_type": "code",
   "execution_count": 588,
   "metadata": {},
   "outputs": [],
   "source": [
    "X_train, X_test, y_train, y_test = train_test_split(X, y, test_size=0.2, random_state=0)"
   ]
  },
  {
   "cell_type": "code",
   "execution_count": 589,
   "metadata": {},
   "outputs": [
    {
     "name": "stdout",
     "output_type": "stream",
     "text": [
      "(1108, 10) (1108,) (277,)\n"
     ]
    }
   ],
   "source": [
    "print(X_train.shape, y_train.shape, y_test.shape)"
   ]
  },
  {
   "cell_type": "markdown",
   "metadata": {},
   "source": [
    "# Baseline Model (only price data) "
   ]
  },
  {
   "cell_type": "markdown",
   "metadata": {},
   "source": [
    "This model will be used to determine if predictions using sentiment and NLP alone generate any meaningful results compared to just using the days historical price information. "
   ]
  },
  {
   "cell_type": "code",
   "execution_count": 590,
   "metadata": {},
   "outputs": [],
   "source": [
    "no_nlp_xtrain = X_train.drop(columns=['sent_negative', 'sent_positive', 'total_articles', 'tokens'])\n",
    "no_nlp_xtest = X_test.drop(columns=['sent_negative', 'sent_positive', 'total_articles', 'tokens'])"
   ]
  },
  {
   "cell_type": "code",
   "execution_count": 591,
   "metadata": {},
   "outputs": [],
   "source": [
    "no_nlp_dummy_clf = DummyClassifier()\n",
    "\n",
    "no_nlp_dummy_clf.fit(no_nlp_xtrain, y_train)\n",
    "\n",
    "#predictions made only with price information\n",
    "no_nlp_preds = no_nlp_dummy_clf.predict(no_nlp_xtest)"
   ]
  },
  {
   "cell_type": "markdown",
   "metadata": {},
   "source": [
    "We can see from the printout below that our baseline model with only basic financial data (open/close/volume) has an overall F1 score of .45, meaning that it performs slightly worse than random guessing as a whole. Whats more important for out purposes is the recall score for the positive class (1). We want to know: \"of all the 1's our model predicted, how many were actually 1's\""
   ]
  },
  {
   "cell_type": "code",
   "execution_count": 592,
   "metadata": {},
   "outputs": [
    {
     "name": "stdout",
     "output_type": "stream",
     "text": [
      "0.5070422535211268\n",
      "------------------------------------------------------------\n",
      "              precision    recall  f1-score   support\n",
      "\n",
      "           0       0.53      0.44      0.48       148\n",
      "           1       0.46      0.56      0.51       129\n",
      "\n",
      "    accuracy                           0.49       277\n",
      "   macro avg       0.50      0.50      0.49       277\n",
      "weighted avg       0.50      0.49      0.49       277\n",
      "\n"
     ]
    }
   ],
   "source": [
    "no_nlp_f1 = metrics.f1_score(y_test, no_nlp_preds)\n",
    "print(no_nlp_f1)\n",
    "print(\"-\"*60)                         \n",
    "print(classification_report(y_test, no_nlp_preds))"
   ]
  },
  {
   "cell_type": "markdown",
   "metadata": {},
   "source": [
    "Now that we ran the baseline without NLP data, we can drop the price data and proceed with only NLP data. "
   ]
  },
  {
   "cell_type": "code",
   "execution_count": 593,
   "metadata": {},
   "outputs": [],
   "source": [
    "X_train.drop(columns=['open', 'high', \n",
    "                 'low', 'close', 'volume',\n",
    "                'day_change', 'total_articles'], inplace=True)\n",
    "\n",
    "X_test.drop(columns=['open', 'high', \n",
    "                 'low', 'close', 'volume',\n",
    "                'day_change', 'total_articles'], inplace=True)"
   ]
  },
  {
   "cell_type": "markdown",
   "metadata": {},
   "source": [
    "# TFIDF X_train"
   ]
  },
  {
   "cell_type": "code",
   "execution_count": 594,
   "metadata": {},
   "outputs": [
    {
     "name": "stdout",
     "output_type": "stream",
     "text": [
      "CPU times: user 55.6 s, sys: 2.1 s, total: 57.7 s\n",
      "Wall time: 58.2 s\n"
     ]
    }
   ],
   "source": [
    "%%time\n",
    "\n",
    "rf_feats = X_train.tokens.values\n",
    "tfidfconverter = TfidfVectorizer(max_features=500, ngram_range=(1,3))  \n",
    "\n",
    "X = tfidfconverter.fit_transform(rf_feats).toarray()\n",
    "\n",
    "tfidf_train = pd.DataFrame(X)"
   ]
  },
  {
   "cell_type": "code",
   "execution_count": 595,
   "metadata": {},
   "outputs": [],
   "source": [
    "X_train = X_train.reset_index(drop=True)\n",
    "frames = [X_train, tfidf_train]\n",
    "X_train = pd.concat(frames, axis=1) "
   ]
  },
  {
   "cell_type": "markdown",
   "metadata": {},
   "source": [
    "# TFIDF X_test"
   ]
  },
  {
   "cell_type": "code",
   "execution_count": 596,
   "metadata": {},
   "outputs": [
    {
     "name": "stdout",
     "output_type": "stream",
     "text": [
      "CPU times: user 13.9 s, sys: 505 ms, total: 14.4 s\n",
      "Wall time: 14.5 s\n"
     ]
    }
   ],
   "source": [
    "%%time\n",
    "rf_feats = X_test.tokens.values\n",
    "tfidfconverter = TfidfVectorizer(max_features=500, ngram_range=(1,3))  \n",
    "\n",
    "X = tfidfconverter.fit_transform(rf_feats).toarray()\n",
    "\n",
    "tfidf_test = pd.DataFrame(X)"
   ]
  },
  {
   "cell_type": "code",
   "execution_count": 597,
   "metadata": {},
   "outputs": [],
   "source": [
    "X_test = X_test.reset_index(drop=True)\n",
    "frames = [X_test, tfidf_test]\n",
    "X_test = pd.concat(frames, axis=1) "
   ]
  },
  {
   "cell_type": "code",
   "execution_count": 598,
   "metadata": {},
   "outputs": [],
   "source": [
    "X_train.drop(columns=['tokens'], inplace=True)\n",
    "X_test.drop(columns=['tokens'], inplace=True)"
   ]
  },
  {
   "cell_type": "markdown",
   "metadata": {},
   "source": [
    "# Baseline Model"
   ]
  },
  {
   "cell_type": "markdown",
   "metadata": {},
   "source": [
    "This model will be used to judge against the performance of all subsequent models."
   ]
  },
  {
   "cell_type": "code",
   "execution_count": 599,
   "metadata": {},
   "outputs": [],
   "source": [
    "dummy_clf = DummyClassifier(strategy=\"stratified\")"
   ]
  },
  {
   "cell_type": "code",
   "execution_count": 600,
   "metadata": {},
   "outputs": [
    {
     "data": {
      "text/plain": [
       "DummyClassifier(strategy='stratified')"
      ]
     },
     "execution_count": 600,
     "metadata": {},
     "output_type": "execute_result"
    }
   ],
   "source": [
    "dummy_clf.fit(X_train, y_train)"
   ]
  },
  {
   "cell_type": "code",
   "execution_count": 601,
   "metadata": {},
   "outputs": [],
   "source": [
    "dum_preds = dummy_clf.predict(X_test)"
   ]
  },
  {
   "cell_type": "markdown",
   "metadata": {},
   "source": [
    "The NLP dummy classifier performs similarly to the previous dummy classifier with an overall F1 score of .45-.50. Recall on the positive class (1) is slightly decreased from only financial data. "
   ]
  },
  {
   "cell_type": "code",
   "execution_count": 602,
   "metadata": {
    "scrolled": true
   },
   "outputs": [
    {
     "name": "stdout",
     "output_type": "stream",
     "text": [
      "F1 is: 0.5182481751824817\n",
      "------------------------------------------------------------\n",
      "              precision    recall  f1-score   support\n",
      "\n",
      "           0       0.56      0.50      0.53       148\n",
      "           1       0.49      0.55      0.52       129\n",
      "\n",
      "    accuracy                           0.52       277\n",
      "   macro avg       0.53      0.53      0.52       277\n",
      "weighted avg       0.53      0.52      0.52       277\n",
      "\n"
     ]
    }
   ],
   "source": [
    "dummy_f1 = metrics.f1_score(y_test, dum_preds)\n",
    "print(\"F1 is:\", dummy_f1)\n",
    "print(\"-\"*60)                         \n",
    "print(classification_report(y_test, dum_preds))"
   ]
  },
  {
   "cell_type": "markdown",
   "metadata": {},
   "source": [
    "We can use ROC curves to visualize the general predictive accuracy of our models. We can see below that if you gave this dummy classifier one days worth of aggregated news articles related to apple stock, there is a .49 chance it would predict the positive class (that the stock will rise tomorrow). Ideally we want the blue line to be as close to the upper left corner of the plot as possible. We can use the ROC curve to determine optimal decision boundries based on our problem. I our case we want to predict all the days that a stock will increase. To do this we will attempt to optimize the recall score. If we throw today's news at our model, we want the the ability of our model to choose if the stock will increase tomorrow to be high. "
   ]
  },
  {
   "cell_type": "code",
   "execution_count": 604,
   "metadata": {},
   "outputs": [
    {
     "data": {
      "image/png": "[encoded data removed]",
      "text/plain": [
       "<Figure size 432x288 with 1 Axes>"
      ]
     },
     "metadata": {
      "needs_background": "light"
     },
     "output_type": "display_data"
    }
   ],
   "source": [
    "plot_roc_curve(dummy_clf, X_test, y_test);\n",
    "plt.plot([0, 1], [0, 1], color='navy', lw=2, linestyle='--');"
   ]
  },
  {
   "cell_type": "markdown",
   "metadata": {},
   "source": [
    "# Random Forest"
   ]
  },
  {
   "cell_type": "code",
   "execution_count": 605,
   "metadata": {},
   "outputs": [
    {
     "name": "stdout",
     "output_type": "stream",
     "text": [
      "CPU times: user 91 µs, sys: 240 µs, total: 331 µs\n",
      "Wall time: 335 µs\n"
     ]
    }
   ],
   "source": [
    "%%time\n",
    "rfc = RandomForestClassifier(criterion = \"gini\",\n",
    "                             random_state = 0,\n",
    "                             verbose=1, n_jobs=-1)\n",
    "\n"
   ]
  },
  {
   "cell_type": "code",
   "execution_count": 606,
   "metadata": {},
   "outputs": [],
   "source": [
    "param_dict={'min_samples_leaf':[1,2,4],\n",
    "            'max_depth': [1, 2,10,45],\n",
    "           'n_estimators':[10, 15, 20, 25]}"
   ]
  },
  {
   "cell_type": "code",
   "execution_count": 607,
   "metadata": {},
   "outputs": [
    {
     "name": "stdout",
     "output_type": "stream",
     "text": [
      "CPU times: user 56 µs, sys: 54 µs, total: 110 µs\n",
      "Wall time: 113 µs\n"
     ]
    }
   ],
   "source": [
    "%%time\n",
    "grid_tree = GridSearchCV(rfc, param_dict, cv=10, scoring=\"recall\", verbose=1, n_jobs=-1)"
   ]
  },
  {
   "cell_type": "code",
   "execution_count": 608,
   "metadata": {
    "scrolled": true
   },
   "outputs": [
    {
     "name": "stdout",
     "output_type": "stream",
     "text": [
      "Fitting 10 folds for each of 48 candidates, totalling 480 fits\n"
     ]
    },
    {
     "name": "stderr",
     "output_type": "stream",
     "text": [
      "[Parallel(n_jobs=-1)]: Using backend LokyBackend with 8 concurrent workers.\n",
      "[Parallel(n_jobs=-1)]: Done  34 tasks      | elapsed:    4.6s\n",
      "[Parallel(n_jobs=-1)]: Done 184 tasks      | elapsed:    9.7s\n",
      "[Parallel(n_jobs=-1)]: Done 434 tasks      | elapsed:   21.2s\n",
      "[Parallel(n_jobs=-1)]: Done 480 out of 480 | elapsed:   23.3s finished\n",
      "[Parallel(n_jobs=-1)]: Using backend ThreadingBackend with 8 concurrent workers.\n",
      "[Parallel(n_jobs=-1)]: Done  20 out of  20 | elapsed:    0.0s finished\n"
     ]
    },
    {
     "name": "stdout",
     "output_type": "stream",
     "text": [
      "CPU times: user 2.81 s, sys: 289 ms, total: 3.1 s\n",
      "Wall time: 23.5 s\n"
     ]
    },
    {
     "data": {
      "text/plain": [
       "GridSearchCV(cv=10,\n",
       "             estimator=RandomForestClassifier(n_jobs=-1, random_state=0,\n",
       "                                              verbose=1),\n",
       "             n_jobs=-1,\n",
       "             param_grid={'max_depth': [1, 2, 10, 45],\n",
       "                         'min_samples_leaf': [1, 2, 4],\n",
       "                         'n_estimators': [10, 15, 20, 25]},\n",
       "             scoring='recall', verbose=1)"
      ]
     },
     "execution_count": 608,
     "metadata": {},
     "output_type": "execute_result"
    }
   ],
   "source": [
    "%%time\n",
    "grid_tree.fit(X_train, y_train)"
   ]
  },
  {
   "cell_type": "code",
   "execution_count": 609,
   "metadata": {},
   "outputs": [
    {
     "name": "stderr",
     "output_type": "stream",
     "text": [
      "[Parallel(n_jobs=8)]: Using backend ThreadingBackend with 8 concurrent workers.\n",
      "[Parallel(n_jobs=8)]: Done  20 out of  20 | elapsed:    0.0s finished\n"
     ]
    }
   ],
   "source": [
    "grid_tree_pred = grid_tree.predict(X_test)"
   ]
  },
  {
   "cell_type": "markdown",
   "metadata": {},
   "source": [
    "The Random Forest model performs slightly better than random quessing overall, however, similar to upcoming models will predict more false positives than true positives. With 66% recall, the model does a moderate job of picking the positive class. "
   ]
  },
  {
   "cell_type": "code",
   "execution_count": 610,
   "metadata": {},
   "outputs": [
    {
     "name": "stdout",
     "output_type": "stream",
     "text": [
      "F1 is: 0.5483870967741936\n",
      "------------------------------------------------------------\n",
      "              precision    recall  f1-score   support\n",
      "\n",
      "           0       0.54      0.35      0.43       148\n",
      "           1       0.47      0.66      0.55       129\n",
      "\n",
      "    accuracy                           0.49       277\n",
      "   macro avg       0.51      0.51      0.49       277\n",
      "weighted avg       0.51      0.49      0.48       277\n",
      "\n"
     ]
    }
   ],
   "source": [
    "random_forest_f1 = metrics.f1_score(y_test, grid_tree_pred)\n",
    "print(\"F1 is:\", random_forest_f1)\n",
    "print(\"-\"*60)   \n",
    "print(classification_report(y_test, grid_tree_pred))"
   ]
  },
  {
   "cell_type": "code",
   "execution_count": 611,
   "metadata": {},
   "outputs": [
    {
     "name": "stdout",
     "output_type": "stream",
     "text": [
      "{'max_depth': 1, 'min_samples_leaf': 1, 'n_estimators': 20}\n"
     ]
    }
   ],
   "source": [
    "print(grid_tree.best_params_)"
   ]
  },
  {
   "cell_type": "code",
   "execution_count": 612,
   "metadata": {},
   "outputs": [
    {
     "data": {
      "text/plain": [
       "array([[52, 96],\n",
       "       [44, 85]])"
      ]
     },
     "execution_count": 612,
     "metadata": {},
     "output_type": "execute_result"
    }
   ],
   "source": [
    "confusion_matrix(y_test, grid_tree_pred)"
   ]
  },
  {
   "cell_type": "markdown",
   "metadata": {},
   "source": [
    "# Bournoulli Naive Bayes"
   ]
  },
  {
   "cell_type": "code",
   "execution_count": 613,
   "metadata": {},
   "outputs": [],
   "source": [
    "boo = BernoulliNB()"
   ]
  },
  {
   "cell_type": "code",
   "execution_count": 614,
   "metadata": {},
   "outputs": [],
   "source": [
    "# I will use these parameters to grid search all subsequent Bayes Models\n",
    "param_dict={'alpha':list(np.linspace(0,30,100))}"
   ]
  },
  {
   "cell_type": "code",
   "execution_count": 615,
   "metadata": {},
   "outputs": [],
   "source": [
    "boo_nb = GridSearchCV(boo, param_dict, cv=5, scoring=\"recall\", n_jobs=-1)"
   ]
  },
  {
   "cell_type": "code",
   "execution_count": 616,
   "metadata": {},
   "outputs": [
    {
     "name": "stdout",
     "output_type": "stream",
     "text": [
      "CPU times: user 1.2 s, sys: 74.3 ms, total: 1.27 s\n",
      "Wall time: 3.77 s\n"
     ]
    },
    {
     "data": {
      "text/plain": [
       "GridSearchCV(cv=5, estimator=BernoulliNB(), n_jobs=-1,\n",
       "             param_grid={'alpha': [0.0, 0.30303030303030304, 0.6060606060606061,\n",
       "                                   0.9090909090909092, 1.2121212121212122,\n",
       "                                   1.5151515151515151, 1.8181818181818183,\n",
       "                                   2.121212121212121, 2.4242424242424243,\n",
       "                                   2.7272727272727275, 3.0303030303030303,\n",
       "                                   3.3333333333333335, 3.6363636363636367,\n",
       "                                   3.9393939393939394, 4.242424242424242,\n",
       "                                   4.545454545454546, 4.848484848484849,\n",
       "                                   5.151515151515151, 5.454545454545455,\n",
       "                                   5.757575757575758, 6.0606060606060606,\n",
       "                                   6.363636363636364, 6.666666666666667,\n",
       "                                   6.96969696969697, 7.272727272727273,\n",
       "                                   7.575757575757576, 7.878787878787879,\n",
       "                                   8.181818181818182, 8.484848484848484,\n",
       "                                   8.787878787878789, ...]},\n",
       "             scoring='recall')"
      ]
     },
     "execution_count": 616,
     "metadata": {},
     "output_type": "execute_result"
    }
   ],
   "source": [
    "%%time\n",
    "boo_nb.fit(X_train, y_train)"
   ]
  },
  {
   "cell_type": "code",
   "execution_count": 617,
   "metadata": {},
   "outputs": [],
   "source": [
    "boo_nb_pred = boo_nb.predict(X_test)"
   ]
  },
  {
   "cell_type": "code",
   "execution_count": 619,
   "metadata": {},
   "outputs": [
    {
     "data": {
      "text/plain": [
       "array([[63, 85],\n",
       "       [49, 80]])"
      ]
     },
     "execution_count": 619,
     "metadata": {},
     "output_type": "execute_result"
    }
   ],
   "source": [
    "confusion_matrix(y_test, boo_nb_pred)"
   ]
  },
  {
   "cell_type": "markdown",
   "metadata": {},
   "source": [
    "The Bournoulli Naive Bayes model performs only slightly better than someone who only has the days basic financial data. "
   ]
  },
  {
   "cell_type": "code",
   "execution_count": 620,
   "metadata": {},
   "outputs": [
    {
     "name": "stdout",
     "output_type": "stream",
     "text": [
      "F1 is: 0.54421768707483\n",
      "------------------------------------------------------------\n",
      "              precision    recall  f1-score   support\n",
      "\n",
      "           0       0.56      0.43      0.48       148\n",
      "           1       0.48      0.62      0.54       129\n",
      "\n",
      "    accuracy                           0.52       277\n",
      "   macro avg       0.52      0.52      0.51       277\n",
      "weighted avg       0.53      0.52      0.51       277\n",
      "\n"
     ]
    }
   ],
   "source": [
    "boo_f1 = metrics.f1_score(y_test, boo_nb_pred)\n",
    "print(\"F1 is:\", boo_f1)\n",
    "print(\"-\"*60)   \n",
    "print(classification_report(y_test, boo_nb_pred))"
   ]
  },
  {
   "cell_type": "code",
   "execution_count": 621,
   "metadata": {},
   "outputs": [],
   "source": [
    "# to be used in the combined plot of AUC across all models. \n",
    "boo_alpha = boo_nb.best_params_['alpha']"
   ]
  },
  {
   "cell_type": "markdown",
   "metadata": {},
   "source": [
    "# Multinomial"
   ]
  },
  {
   "cell_type": "code",
   "execution_count": 622,
   "metadata": {},
   "outputs": [],
   "source": [
    "from sklearn.naive_bayes import MultinomialNB"
   ]
  },
  {
   "cell_type": "code",
   "execution_count": 623,
   "metadata": {},
   "outputs": [],
   "source": [
    "multi_clf = MultinomialNB()"
   ]
  },
  {
   "cell_type": "code",
   "execution_count": 624,
   "metadata": {},
   "outputs": [],
   "source": [
    "multi_clf_grid = GridSearchCV(multi_clf, param_dict, cv=5, scoring=\"recall\", n_jobs=-1)"
   ]
  },
  {
   "cell_type": "code",
   "execution_count": 625,
   "metadata": {},
   "outputs": [
    {
     "name": "stdout",
     "output_type": "stream",
     "text": [
      "CPU times: user 1.47 s, sys: 93.1 ms, total: 1.56 s\n",
      "Wall time: 3.17 s\n"
     ]
    },
    {
     "data": {
      "text/plain": [
       "GridSearchCV(cv=5, estimator=MultinomialNB(), n_jobs=-1,\n",
       "             param_grid={'alpha': [0.0, 0.30303030303030304, 0.6060606060606061,\n",
       "                                   0.9090909090909092, 1.2121212121212122,\n",
       "                                   1.5151515151515151, 1.8181818181818183,\n",
       "                                   2.121212121212121, 2.4242424242424243,\n",
       "                                   2.7272727272727275, 3.0303030303030303,\n",
       "                                   3.3333333333333335, 3.6363636363636367,\n",
       "                                   3.9393939393939394, 4.242424242424242,\n",
       "                                   4.545454545454546, 4.848484848484849,\n",
       "                                   5.151515151515151, 5.454545454545455,\n",
       "                                   5.757575757575758, 6.0606060606060606,\n",
       "                                   6.363636363636364, 6.666666666666667,\n",
       "                                   6.96969696969697, 7.272727272727273,\n",
       "                                   7.575757575757576, 7.878787878787879,\n",
       "                                   8.181818181818182, 8.484848484848484,\n",
       "                                   8.787878787878789, ...]},\n",
       "             scoring='recall')"
      ]
     },
     "execution_count": 625,
     "metadata": {},
     "output_type": "execute_result"
    }
   ],
   "source": [
    "%%time\n",
    "multi_clf_grid.fit(X_train, y_train)"
   ]
  },
  {
   "cell_type": "code",
   "execution_count": 626,
   "metadata": {},
   "outputs": [],
   "source": [
    "multi_clf_pred = multi_clf_grid.predict(X_test)"
   ]
  },
  {
   "cell_type": "markdown",
   "metadata": {},
   "source": [
    "Overall, the Multinomial Naive Bayes model performs well, with an overall F1 score of 62% it predicts with better accuracy than random guessing. From the confusion matrix, we can see that the model does tend to primarily predict the positive class. The high false positive rate explains the 48% accuracy output. This model appears to have the most promise because it does a good job of correctly picking the positive examples. We can use the `class_prior` hyperparameter to adjust the decision boundry and see if we can lower the number of false positives. "
   ]
  },
  {
   "cell_type": "code",
   "execution_count": 627,
   "metadata": {},
   "outputs": [
    {
     "name": "stdout",
     "output_type": "stream",
     "text": [
      "F1 is: 0.6230366492146596\n",
      "------------------------------------------------------------\n",
      "              precision    recall  f1-score   support\n",
      "\n",
      "           0       0.58      0.09      0.16       148\n",
      "           1       0.47      0.92      0.62       129\n",
      "\n",
      "    accuracy                           0.48       277\n",
      "   macro avg       0.53      0.51      0.39       277\n",
      "weighted avg       0.53      0.48      0.38       277\n",
      "\n"
     ]
    }
   ],
   "source": [
    "multi_f1 = metrics.f1_score(y_test, multi_clf_pred)\n",
    "print(\"F1 is:\", multi_f1)\n",
    "print(\"-\"*60)   \n",
    "print(classification_report(y_test, multi_clf_pred))"
   ]
  },
  {
   "cell_type": "code",
   "execution_count": 628,
   "metadata": {},
   "outputs": [
    {
     "data": {
      "text/plain": [
       "array([[ 14, 134],\n",
       "       [ 10, 119]])"
      ]
     },
     "execution_count": 628,
     "metadata": {},
     "output_type": "execute_result"
    }
   ],
   "source": [
    "confusion_matrix(y_test, multi_clf_pred)"
   ]
  },
  {
   "cell_type": "code",
   "execution_count": 629,
   "metadata": {},
   "outputs": [],
   "source": [
    "# to be used in the combined plot of AUC across all models.\n",
    "multi_alpha = multi_clf_grid.best_params_['alpha']"
   ]
  },
  {
   "cell_type": "markdown",
   "metadata": {},
   "source": [
    "# Gaussian NB"
   ]
  },
  {
   "cell_type": "code",
   "execution_count": 630,
   "metadata": {},
   "outputs": [],
   "source": [
    "from sklearn.naive_bayes import GaussianNB"
   ]
  },
  {
   "cell_type": "code",
   "execution_count": 631,
   "metadata": {},
   "outputs": [],
   "source": [
    "gaus_clf = GaussianNB()"
   ]
  },
  {
   "cell_type": "code",
   "execution_count": 632,
   "metadata": {},
   "outputs": [],
   "source": [
    "param_grid = {\n",
    "    \"var_smoothing\": list(np.linspace(0.0001,.00001,500))\n",
    "}"
   ]
  },
  {
   "cell_type": "code",
   "execution_count": 633,
   "metadata": {},
   "outputs": [],
   "source": [
    "gaus_clf_grid = GridSearchCV(gaus_clf, param_grid=param_grid, cv=5, scoring=\"recall\", verbose=1, n_jobs=-1)"
   ]
  },
  {
   "cell_type": "code",
   "execution_count": 634,
   "metadata": {},
   "outputs": [
    {
     "name": "stdout",
     "output_type": "stream",
     "text": [
      "Fitting 5 folds for each of 500 candidates, totalling 2500 fits\n"
     ]
    },
    {
     "name": "stderr",
     "output_type": "stream",
     "text": [
      "[Parallel(n_jobs=-1)]: Using backend LokyBackend with 8 concurrent workers.\n",
      "[Parallel(n_jobs=-1)]: Done  52 tasks      | elapsed:    0.6s\n",
      "[Parallel(n_jobs=-1)]: Done 352 tasks      | elapsed:    3.2s\n",
      "[Parallel(n_jobs=-1)]: Done 852 tasks      | elapsed:    7.6s\n",
      "[Parallel(n_jobs=-1)]: Done 1552 tasks      | elapsed:   13.2s\n",
      "[Parallel(n_jobs=-1)]: Done 2452 tasks      | elapsed:   20.3s\n",
      "[Parallel(n_jobs=-1)]: Done 2500 out of 2500 | elapsed:   20.6s finished\n"
     ]
    },
    {
     "data": {
      "text/plain": [
       "GridSearchCV(cv=5, estimator=GaussianNB(), n_jobs=-1,\n",
       "             param_grid={'var_smoothing': [0.0001, 9.981963927855712e-05,\n",
       "                                           9.963927855711424e-05,\n",
       "                                           9.945891783567135e-05,\n",
       "                                           9.927855711422846e-05,\n",
       "                                           9.909819639278557e-05,\n",
       "                                           9.891783567134269e-05,\n",
       "                                           9.87374749498998e-05,\n",
       "                                           9.855711422845692e-05,\n",
       "                                           9.837675350701404e-05,\n",
       "                                           9.819639278557115e-05,\n",
       "                                           9.801603206412827e-05,\n",
       "                                           9.783567134268537e-05,...\n",
       "                                           9.729458917835672e-05,\n",
       "                                           9.711422845691383e-05,\n",
       "                                           9.693386773547095e-05,\n",
       "                                           9.675350701402807e-05,\n",
       "                                           9.657314629258517e-05,\n",
       "                                           9.639278557114228e-05,\n",
       "                                           9.62124248496994e-05,\n",
       "                                           9.603206412825652e-05,\n",
       "                                           9.585170340681363e-05,\n",
       "                                           9.567134268537075e-05,\n",
       "                                           9.549098196392786e-05,\n",
       "                                           9.531062124248498e-05,\n",
       "                                           9.513026052104208e-05,\n",
       "                                           9.49498997995992e-05,\n",
       "                                           9.476953907815631e-05, ...]},\n",
       "             scoring='recall', verbose=1)"
      ]
     },
     "execution_count": 634,
     "metadata": {},
     "output_type": "execute_result"
    }
   ],
   "source": [
    "gaus_clf_grid.fit(X_train,y_train)"
   ]
  },
  {
   "cell_type": "code",
   "execution_count": 635,
   "metadata": {},
   "outputs": [],
   "source": [
    "y_hat_gaus = gaus_clf_grid.predict(X_test)"
   ]
  },
  {
   "cell_type": "markdown",
   "metadata": {},
   "source": [
    "The Gaussian Naive Bayes model predicts the positive class (that share prices will increase the following day) correctly 73% of the time, however, as we can see from the confusion matrix it predicts more false positives (102) than true positives (94). For our purposes, we want to more true positives than false positives. "
   ]
  },
  {
   "cell_type": "code",
   "execution_count": 636,
   "metadata": {},
   "outputs": [
    {
     "name": "stdout",
     "output_type": "stream",
     "text": [
      "F1 is: 0.5784615384615385\n",
      "------------------------------------------------------------\n",
      "              precision    recall  f1-score   support\n",
      "\n",
      "           0       0.57      0.31      0.40       148\n",
      "           1       0.48      0.73      0.58       129\n",
      "\n",
      "    accuracy                           0.51       277\n",
      "   macro avg       0.52      0.52      0.49       277\n",
      "weighted avg       0.53      0.51      0.48       277\n",
      "\n"
     ]
    }
   ],
   "source": [
    "gaus_f1 = metrics.f1_score(y_test, y_hat_gaus)\n",
    "print(\"F1 is:\", gaus_f1)\n",
    "print(\"-\"*60)   \n",
    "print(classification_report(y_test, y_hat_gaus))"
   ]
  },
  {
   "cell_type": "code",
   "execution_count": 637,
   "metadata": {},
   "outputs": [
    {
     "data": {
      "text/plain": [
       "array([[ 46, 102],\n",
       "       [ 35,  94]])"
      ]
     },
     "execution_count": 637,
     "metadata": {},
     "output_type": "execute_result"
    }
   ],
   "source": [
    "confusion_matrix(y_test, y_hat_gaus)"
   ]
  },
  {
   "cell_type": "code",
   "execution_count": 638,
   "metadata": {},
   "outputs": [],
   "source": [
    "gaus_smoothing = gaus_clf_grid.best_params_['var_smoothing']"
   ]
  },
  {
   "cell_type": "markdown",
   "metadata": {},
   "source": [
    "# Plotting The Modeling Results"
   ]
  },
  {
   "cell_type": "code",
   "execution_count": 653,
   "metadata": {},
   "outputs": [],
   "source": [
    "from sklearn.metrics import roc_curve, roc_auc_score"
   ]
  },
  {
   "cell_type": "code",
   "execution_count": 654,
   "metadata": {},
   "outputs": [],
   "source": [
    "models = [DummyClassifier(strategy=\"stratified\"),\n",
    "               MultinomialNB(alpha=multi_alpha),\n",
    "               BernoulliNB(alpha=boo_alpha),\n",
    "               GaussianNB(),\n",
    "               RandomForestClassifier(n_estimators = 10, criterion = \"entropy\", random_state = 3)]"
   ]
  },
  {
   "cell_type": "code",
   "execution_count": 655,
   "metadata": {},
   "outputs": [],
   "source": [
    "model_auc = pd.DataFrame(columns=['classifiers', 'fpr', 'tpr', 'auc'])"
   ]
  },
  {
   "cell_type": "code",
   "execution_count": 656,
   "metadata": {},
   "outputs": [],
   "source": [
    "#Fit all of the models\n",
    "for mod in models:\n",
    "    mod = mod.fit(X_train, y_train)\n",
    "    prob = mod.predict_proba(X_test)[::,1]\n",
    "    \n",
    "    fpr, tpr, _ = roc_curve(y_test,  prob)\n",
    "    auc = roc_auc_score(y_test, prob)\n",
    "    \n",
    "    model_auc = model_auc.append({'classifiers':mod.__class__.__name__,\n",
    "                                        'fpr':fpr, \n",
    "                                        'tpr':tpr, \n",
    "                                        'auc':auc}, ignore_index=True)"
   ]
  },
  {
   "cell_type": "code",
   "execution_count": 657,
   "metadata": {},
   "outputs": [],
   "source": [
    "model_auc.set_index('classifiers', inplace=True)"
   ]
  },
  {
   "cell_type": "code",
   "execution_count": 658,
   "metadata": {},
   "outputs": [
    {
     "data": {
      "text/html": [
       "<div>\n",
       "<style scoped>\n",
       "    .dataframe tbody tr th:only-of-type {\n",
       "        vertical-align: middle;\n",
       "    }\n",
       "\n",
       "    .dataframe tbody tr th {\n",
       "        vertical-align: top;\n",
       "    }\n",
       "\n",
       "    .dataframe thead th {\n",
       "        text-align: right;\n",
       "    }\n",
       "</style>\n",
       "<table border=\"1\" class=\"dataframe\">\n",
       "  <thead>\n",
       "    <tr style=\"text-align: right;\">\n",
       "      <th></th>\n",
       "      <th>fpr</th>\n",
       "      <th>tpr</th>\n",
       "      <th>auc</th>\n",
       "    </tr>\n",
       "    <tr>\n",
       "      <th>classifiers</th>\n",
       "      <th></th>\n",
       "      <th></th>\n",
       "      <th></th>\n",
       "    </tr>\n",
       "  </thead>\n",
       "  <tbody>\n",
       "    <tr>\n",
       "      <th>DummyClassifier</th>\n",
       "      <td>[0.0, 0.5540540540540541, 1.0]</td>\n",
       "      <td>[0.0, 0.4728682170542636, 1.0]</td>\n",
       "      <td>0.459407</td>\n",
       "    </tr>\n",
       "    <tr>\n",
       "      <th>MultinomialNB</th>\n",
       "      <td>[0.0, 0.006756756756756757, 0.0067567567567567...</td>\n",
       "      <td>[0.0, 0.0, 0.007751937984496124, 0.00775193798...</td>\n",
       "      <td>0.524984</td>\n",
       "    </tr>\n",
       "    <tr>\n",
       "      <th>BernoulliNB</th>\n",
       "      <td>[0.0, 0.006756756756756757, 0.0202702702702702...</td>\n",
       "      <td>[0.0, 0.0, 0.0, 0.015503875968992248, 0.015503...</td>\n",
       "      <td>0.516132</td>\n",
       "    </tr>\n",
       "    <tr>\n",
       "      <th>GaussianNB</th>\n",
       "      <td>[0.0, 0.02702702702702703, 0.03378378378378378...</td>\n",
       "      <td>[0.0, 0.015503875968992248, 0.0155038759689922...</td>\n",
       "      <td>0.540960</td>\n",
       "    </tr>\n",
       "    <tr>\n",
       "      <th>RandomForestClassifier</th>\n",
       "      <td>[0.0, 0.013513513513513514, 0.0675675675675675...</td>\n",
       "      <td>[0.0, 0.0, 0.03875968992248062, 0.108527131782...</td>\n",
       "      <td>0.477818</td>\n",
       "    </tr>\n",
       "  </tbody>\n",
       "</table>\n",
       "</div>"
      ],
      "text/plain": [
       "                                                                      fpr  \\\n",
       "classifiers                                                                 \n",
       "DummyClassifier                            [0.0, 0.5540540540540541, 1.0]   \n",
       "MultinomialNB           [0.0, 0.006756756756756757, 0.0067567567567567...   \n",
       "BernoulliNB             [0.0, 0.006756756756756757, 0.0202702702702702...   \n",
       "GaussianNB              [0.0, 0.02702702702702703, 0.03378378378378378...   \n",
       "RandomForestClassifier  [0.0, 0.013513513513513514, 0.0675675675675675...   \n",
       "\n",
       "                                                                      tpr  \\\n",
       "classifiers                                                                 \n",
       "DummyClassifier                            [0.0, 0.4728682170542636, 1.0]   \n",
       "MultinomialNB           [0.0, 0.0, 0.007751937984496124, 0.00775193798...   \n",
       "BernoulliNB             [0.0, 0.0, 0.0, 0.015503875968992248, 0.015503...   \n",
       "GaussianNB              [0.0, 0.015503875968992248, 0.0155038759689922...   \n",
       "RandomForestClassifier  [0.0, 0.0, 0.03875968992248062, 0.108527131782...   \n",
       "\n",
       "                             auc  \n",
       "classifiers                       \n",
       "DummyClassifier         0.459407  \n",
       "MultinomialNB           0.524984  \n",
       "BernoulliNB             0.516132  \n",
       "GaussianNB              0.540960  \n",
       "RandomForestClassifier  0.477818  "
      ]
     },
     "execution_count": 658,
     "metadata": {},
     "output_type": "execute_result"
    }
   ],
   "source": [
    "model_auc"
   ]
  },
  {
   "cell_type": "markdown",
   "metadata": {},
   "source": [
    "We can see below that the Gaussian Naive Bayes classifier has the highest AUC, with Multinomial Naive Bayes taking second place. Ideally, these curves would be in the top left corner of the graph, suggesting that our data provides only a marginal increase in predictive power compares to random guessing."
   ]
  },
  {
   "cell_type": "code",
   "execution_count": 659,
   "metadata": {},
   "outputs": [
    {
     "data": {
      "image/png": "[encoded data removed]",
      "text/plain": [
       "<Figure size 720x504 with 1 Axes>"
      ]
     },
     "metadata": {
      "needs_background": "light"
     },
     "output_type": "display_data"
    }
   ],
   "source": [
    "fig = plt.figure(figsize=(10,7))\n",
    "\n",
    "for i in model_auc.index:\n",
    "    plt.plot(model_auc.loc[i]['fpr'], \n",
    "             model_auc.loc[i]['tpr'], \n",
    "             label=\"{}, AUC={:.3f}\".format(i, model_auc.loc[i]['auc']))\n",
    "    \n",
    "plt.plot([0,1], [0,1], color='black', linestyle='--')\n",
    "\n",
    "plt.xticks(np.arange(0.0, 1.1, step=0.1))\n",
    "plt.xlabel(\"False Positive Rate\", fontsize=15)\n",
    "\n",
    "plt.yticks(np.arange(0.0, 1.1, step=0.1))\n",
    "plt.ylabel(\"True Positive Rate\", fontsize=15)\n",
    "\n",
    "plt.title('Model ROC Curve Results', fontsize=25)\n",
    "plt.legend(prop={'size':10}, loc='lower right')\n",
    "\n",
    "plt.savefig('model_analysis.png')"
   ]
  },
  {
   "cell_type": "code",
   "execution_count": 711,
   "metadata": {},
   "outputs": [],
   "source": [
    "f1_scores = {'no_nlp':no_nlp_f1, 'dummy':dummy_f1, 'random_forest':random_forest_f1, 'bernoulli':boo_f1, 'multinomial':multi_f1, 'gaussian':gaus_f1}\n",
    "f1_df = pd.DataFrame.from_dict(f1_scores, orient='index', columns=['F1_score'])"
   ]
  },
  {
   "cell_type": "code",
   "execution_count": 712,
   "metadata": {},
   "outputs": [
    {
     "data": {
      "text/html": [
       "<div>\n",
       "<style scoped>\n",
       "    .dataframe tbody tr th:only-of-type {\n",
       "        vertical-align: middle;\n",
       "    }\n",
       "\n",
       "    .dataframe tbody tr th {\n",
       "        vertical-align: top;\n",
       "    }\n",
       "\n",
       "    .dataframe thead th {\n",
       "        text-align: right;\n",
       "    }\n",
       "</style>\n",
       "<table border=\"1\" class=\"dataframe\">\n",
       "  <thead>\n",
       "    <tr style=\"text-align: right;\">\n",
       "      <th></th>\n",
       "      <th>F1_score</th>\n",
       "    </tr>\n",
       "  </thead>\n",
       "  <tbody>\n",
       "    <tr>\n",
       "      <th>no_nlp</th>\n",
       "      <td>0.507042</td>\n",
       "    </tr>\n",
       "    <tr>\n",
       "      <th>dummy</th>\n",
       "      <td>0.518248</td>\n",
       "    </tr>\n",
       "    <tr>\n",
       "      <th>random_forest</th>\n",
       "      <td>0.548387</td>\n",
       "    </tr>\n",
       "    <tr>\n",
       "      <th>bernoulli</th>\n",
       "      <td>0.544218</td>\n",
       "    </tr>\n",
       "    <tr>\n",
       "      <th>multinomial</th>\n",
       "      <td>0.623037</td>\n",
       "    </tr>\n",
       "    <tr>\n",
       "      <th>gaussian</th>\n",
       "      <td>0.578462</td>\n",
       "    </tr>\n",
       "  </tbody>\n",
       "</table>\n",
       "</div>"
      ],
      "text/plain": [
       "               F1_score\n",
       "no_nlp         0.507042\n",
       "dummy          0.518248\n",
       "random_forest  0.548387\n",
       "bernoulli      0.544218\n",
       "multinomial    0.623037\n",
       "gaussian       0.578462"
      ]
     },
     "execution_count": 712,
     "metadata": {},
     "output_type": "execute_result"
    }
   ],
   "source": [
    "f1_df"
   ]
  },
  {
   "cell_type": "markdown",
   "metadata": {},
   "source": [
    "Although Gaussian Naive Bayes had the highest AUC, Multinomial Naive Bayes has the higher overall F1, which suggests that overall, Multinomial Naive Bayes may be a better model to perform our task. For this reason I will focus on improving the predictions of the Multinomial Naive Bayes model.   "
   ]
  },
  {
   "cell_type": "code",
   "execution_count": 886,
   "metadata": {},
   "outputs": [
    {
     "data": {
      "image/png": "[encoded data removed]",
      "text/plain": [
       "<Figure size 864x576 with 1 Axes>"
      ]
     },
     "metadata": {},
     "output_type": "display_data"
    }
   ],
   "source": [
    "fig, ax = plt.subplots(figsize=(12,8))\n",
    "sns.set(font_scale = 1.7)\n",
    "plt.xticks(rotation=15)\n",
    "sns.barplot(data=f1_df, x=f1_df.index, y='F1_score')\n",
    "fig.suptitle('Initial F1 Scores', fontsize=35)\n",
    "plt.xlabel('Model Name', fontsize=25, labelpad=20)\n",
    "plt.ylabel('Score', fontsize=25, labelpad=10);\n",
    "plt.savefig('initial_f1.png')"
   ]
  },
  {
   "cell_type": "markdown",
   "metadata": {},
   "source": [
    "# Final Model: Multinomial Naive Bayes"
   ]
  },
  {
   "cell_type": "markdown",
   "metadata": {},
   "source": [
    "From the above graph, we can see that the Gaussian Naive Bayes model has the largest area under the curve (AUC). So why wouldn't we choose that model? If we look at the overall performance of both of the estimators we can see that the Multinomial Naive Bayes model has a higher overall F1, and also a much higher recall for the positive class. We can adjust the decision boundry to make sure our model predicts more true positives than false positive."
   ]
  },
  {
   "cell_type": "code",
   "execution_count": 826,
   "metadata": {},
   "outputs": [],
   "source": [
    "#class prior is set to .50 by default\n",
    "final_clf = MultinomialNB(class_prior=[.50, .50])\n",
    "\n",
    "param_dict={'alpha':list(np.linspace(0,30,100))}\n",
    "\n",
    "final_clf_grid = GridSearchCV(final_clf, param_dict, cv=5, scoring=\"recall\", n_jobs=-1)\n",
    "\n",
    "final_clf_grid.fit(X_train, y_train)\n",
    "\n",
    "final_clf_pred = final_clf_grid.predict(X_test)"
   ]
  },
  {
   "cell_type": "markdown",
   "metadata": {},
   "source": [
    "Given the days news, this model predicts that the stock will rise the following day 91% of the time. Of those 91% of predictions, the model is correct for the positive class 63% of the time. This performance is better than random guessing, but not ideal because the model predicts the positive class most of the time. We can adjust the decision boundry with the `class_prior` hyperparameter in order to even out the variety of predictions the model is making. "
   ]
  },
  {
   "cell_type": "code",
   "execution_count": 827,
   "metadata": {},
   "outputs": [
    {
     "name": "stdout",
     "output_type": "stream",
     "text": [
      "F1 is: 0.6293333333333333\n",
      "------------------------------------------------------------\n",
      "              precision    recall  f1-score   support\n",
      "\n",
      "           0       0.65      0.14      0.22       148\n",
      "           1       0.48      0.91      0.63       129\n",
      "\n",
      "    accuracy                           0.50       277\n",
      "   macro avg       0.56      0.52      0.43       277\n",
      "weighted avg       0.57      0.50      0.41       277\n",
      "\n"
     ]
    }
   ],
   "source": [
    "multi_f1 = metrics.f1_score(y_test, final_clf_pred)\n",
    "print(\"F1 is:\", multi_f1)\n",
    "print(\"-\"*60)   \n",
    "print(classification_report(y_test, final_clf_pred))"
   ]
  },
  {
   "cell_type": "code",
   "execution_count": 828,
   "metadata": {},
   "outputs": [
    {
     "data": {
      "text/plain": [
       "array([[ 20, 128],\n",
       "       [ 11, 118]])"
      ]
     },
     "execution_count": 828,
     "metadata": {},
     "output_type": "execute_result"
    }
   ],
   "source": [
    "confusion_matrix(y_test, final_clf_pred)"
   ]
  },
  {
   "cell_type": "markdown",
   "metadata": {},
   "source": [
    "##### Second Iteration"
   ]
  },
  {
   "cell_type": "code",
   "execution_count": 831,
   "metadata": {},
   "outputs": [],
   "source": [
    "#modifying the decision boundry.\n",
    "second_iteration_clf = MultinomialNB(class_prior=[.55, .45])\n",
    "\n",
    "second_iteration_clf_grid = GridSearchCV(second_iteration_clf, param_dict, cv=5, scoring=\"recall\", n_jobs=-1)\n",
    "\n",
    "second_iteration_clf_grid.fit(X_train, y_train)\n",
    "\n",
    "second_iteration_clf_pred = second_iteration_clf_grid.predict(X_test)"
   ]
  },
  {
   "cell_type": "markdown",
   "metadata": {},
   "source": [
    "If we move the class prior over .50, we can see that the model starts to diversify its predictions at the cost of our recall score and overall F1 score. However, the overall acuuracy of the model improves. The problem is that the model is still predicting more false positives than true positives. Lets adjust the priors more to see if we can correct this. "
   ]
  },
  {
   "cell_type": "code",
   "execution_count": 832,
   "metadata": {},
   "outputs": [
    {
     "name": "stdout",
     "output_type": "stream",
     "text": [
      "F1 is: 0.6047904191616766\n",
      "------------------------------------------------------------\n",
      "              precision    recall  f1-score   support\n",
      "\n",
      "           0       0.61      0.30      0.40       148\n",
      "           1       0.49      0.78      0.60       129\n",
      "\n",
      "    accuracy                           0.52       277\n",
      "   macro avg       0.55      0.54      0.50       277\n",
      "weighted avg       0.56      0.52      0.50       277\n",
      "\n"
     ]
    }
   ],
   "source": [
    "second_iter_f1 = metrics.f1_score(y_test, second_iteration_clf_pred)\n",
    "print(\"F1 is:\", second_iter_f1)\n",
    "print(\"-\"*60)   \n",
    "print(classification_report(y_test, second_iteration_clf_pred))"
   ]
  },
  {
   "cell_type": "code",
   "execution_count": 833,
   "metadata": {},
   "outputs": [
    {
     "data": {
      "text/plain": [
       "array([[ 44, 104],\n",
       "       [ 28, 101]])"
      ]
     },
     "execution_count": 833,
     "metadata": {},
     "output_type": "execute_result"
    }
   ],
   "source": [
    "confusion_matrix(y_test, second_iteration_clf_pred)"
   ]
  },
  {
   "cell_type": "markdown",
   "metadata": {},
   "source": [
    "##### Third Iteration"
   ]
  },
  {
   "cell_type": "code",
   "execution_count": 852,
   "metadata": {},
   "outputs": [],
   "source": [
    "#modifying the decision boundry.\n",
    "third_iteration_clf = MultinomialNB(class_prior=[.565, .44])\n",
    "\n",
    "third_iteration_clf_grid = GridSearchCV(third_iteration_clf, param_dict, cv=5, scoring=\"recall\", n_jobs=-1)\n",
    "\n",
    "third_iteration_clf_grid.fit(X_train, y_train)\n",
    "\n",
    "third_iteration_clf_pred = third_iteration_clf_grid.predict(X_test)"
   ]
  },
  {
   "cell_type": "markdown",
   "metadata": {},
   "source": [
    "It's a small gain but overall our model now predicts stock increases more reliably than random guessing (10% more). Of the 129 days with the positive tag (stock increased by over 5 cents per share the next day), 74% were correctly identified by our model. Our AUC also increased by 3%."
   ]
  },
  {
   "cell_type": "code",
   "execution_count": 853,
   "metadata": {},
   "outputs": [
    {
     "name": "stdout",
     "output_type": "stream",
     "text": [
      "F1 is: 0.5999999999999999\n",
      "------------------------------------------------------------\n",
      "              precision    recall  f1-score   support\n",
      "\n",
      "           0       0.62      0.36      0.45       148\n",
      "           1       0.50      0.74      0.60       129\n",
      "\n",
      "    accuracy                           0.54       277\n",
      "   macro avg       0.56      0.55      0.53       277\n",
      "weighted avg       0.56      0.54      0.52       277\n",
      "\n"
     ]
    }
   ],
   "source": [
    "third_iter_f1 = metrics.f1_score(y_test, third_iteration_clf_pred)\n",
    "print(\"F1 is:\", third_iter_f1)\n",
    "print(\"-\"*60)   \n",
    "print(classification_report(y_test, third_iteration_clf_pred))"
   ]
  },
  {
   "cell_type": "code",
   "execution_count": 854,
   "metadata": {},
   "outputs": [
    {
     "data": {
      "text/plain": [
       "array([[53, 95],\n",
       "       [33, 96]])"
      ]
     },
     "execution_count": 854,
     "metadata": {},
     "output_type": "execute_result"
    }
   ],
   "source": [
    "confusion_matrix(y_test, third_iteration_clf_pred)"
   ]
  },
  {
   "cell_type": "code",
   "execution_count": 862,
   "metadata": {},
   "outputs": [
    {
     "name": "stdout",
     "output_type": "stream",
     "text": [
      "Final AUC: 0.551147077309868\n"
     ]
    }
   ],
   "source": [
    "fin_auc = metrics.roc_auc_score(y_test, third_iteration_clf_pred)\n",
    "print(f'Final AUC: {fin_auc}')"
   ]
  },
  {
   "cell_type": "markdown",
   "metadata": {},
   "source": [
    "#### Visualizing Results of the final model"
   ]
  },
  {
   "cell_type": "code",
   "execution_count": 888,
   "metadata": {},
   "outputs": [
    {
     "data": {
      "image/png": "[encoded data removed]",
      "text/plain": [
       "<Figure size 864x576 with 2 Axes>"
      ]
     },
     "metadata": {},
     "output_type": "display_data"
    }
   ],
   "source": [
    "from sklearn.metrics import plot_confusion_matrix\n",
    "\n",
    "class_names = ['no increase', '$.05/Share increase']\n",
    "\n",
    "\n",
    "fig, ax = plt.subplots(figsize=(12,8))\n",
    "fig.suptitle('Final Results', fontsize=35)\n",
    "plot_confusion_matrix(third_iteration_clf_grid, X_test, y_test,\n",
    "                                 display_labels=class_names,\n",
    "                                 cmap=plt.cm.Blues, ax=ax)\n",
    "plt.xlabel('Predicted Label', fontsize=25, labelpad=20)\n",
    "plt.ylabel('True Label', fontsize=25, labelpad=2);\n",
    "ax.grid(False)\n",
    "plt.savefig('final_confusion.png')"
   ]
  },
  {
   "cell_type": "markdown",
   "metadata": {},
   "source": [
    "# Conclusions and Next Steps"
   ]
  },
  {
   "cell_type": "markdown",
   "metadata": {},
   "source": [
    "As a guide for decision making, this model would have value in identifying days when investors may want to sell their Apple shares. However, the number of false positives produced by the model is too high to allow for automated trading. Additionally, I believe that adding more observations to the training and testing sets would benefit the model. It would also be interesting to compare the output of this model to a model that only took into account social media data. Then combine social media and news to see if predictions improve. "
   ]
  },
  {
   "cell_type": "code",
   "execution_count": null,
   "metadata": {},
   "outputs": [],
   "source": []
  }
 ],
 "metadata": {
  "kernelspec": {
   "display_name": "learn-env",
   "language": "python",
   "name": "learn-env"
  },
  "language_info": {
   "codemirror_mode": {
    "name": "ipython",
    "version": 3
   },
   "file_extension": ".py",
   "mimetype": "text/x-python",
   "name": "python",
   "nbconvert_exporter": "python",
   "pygments_lexer": "ipython3",
   "version": "3.6.10"
  }
 },
 "nbformat": 4,
 "nbformat_minor": 4
}
