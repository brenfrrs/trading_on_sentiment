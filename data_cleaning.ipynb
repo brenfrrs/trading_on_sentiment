{
 "cells": [
  {
   "cell_type": "code",
   "execution_count": 13,
   "metadata": {},
   "outputs": [],
   "source": [
    "import pandas as pd\n",
    "import numpy as np\n",
    "import datetime\n",
    "from dateutil.relativedelta import relativedelta\n",
    "import re\n",
    "import matplotlib.pyplot as plt\n",
    "import time\n",
    "import seaborn as sns \n",
    "%matplotlib inline"
   ]
  },
  {
   "cell_type": "code",
   "execution_count": 14,
   "metadata": {},
   "outputs": [
    {
     "data": {
      "text/plain": [
       "(27177, 7)"
      ]
     },
     "execution_count": 14,
     "metadata": {},
     "output_type": "execute_result"
    }
   ],
   "source": [
    "df1 = pd.read_csv('yearly_articles/apple2020.csv', index_col=0)\n",
    "df2 = pd.read_csv('yearly_articles/apple2019.csv', index_col=0)\n",
    "df3 = pd.read_csv('yearly_articles/apple2018.csv', index_col=0)\n",
    "df4 = pd.read_csv('yearly_articles/apple2017.csv', index_col=0)\n",
    "df = pd.concat([df1,df2, df3, df4])\n",
    "df.dropna(subset=['fulltext'], inplace=True)\n",
    "df.shape"
   ]
  },
  {
   "cell_type": "markdown",
   "metadata": {},
   "source": [
    "# Clean newlines and special characters"
   ]
  },
  {
   "cell_type": "code",
   "execution_count": 15,
   "metadata": {},
   "outputs": [],
   "source": [
    "def clean_text(text):\n",
    "    text.replace(\"\\n\",\" \")\n",
    "    text =  ' '.join(re.sub(\"([^0-9A-Za-z])\",\" \",text).split())\n",
    "    return text.lower()"
   ]
  },
  {
   "cell_type": "code",
   "execution_count": 16,
   "metadata": {},
   "outputs": [
    {
     "name": "stdout",
     "output_type": "stream",
     "text": [
      "CPU times: user 7.55 s, sys: 178 ms, total: 7.73 s\n",
      "Wall time: 8 s\n"
     ]
    }
   ],
   "source": [
    "%%time\n",
    "df['cleaned_text'] = df['fulltext'].apply(clean_text)\n",
    "df['cleaned_authors'] = df['author'].apply(clean_text)"
   ]
  },
  {
   "cell_type": "markdown",
   "metadata": {},
   "source": [
    "#### Changing the UTC time to EST."
   ]
  },
  {
   "cell_type": "code",
   "execution_count": 17,
   "metadata": {},
   "outputs": [],
   "source": [
    "import pytz"
   ]
  },
  {
   "cell_type": "code",
   "execution_count": 18,
   "metadata": {},
   "outputs": [],
   "source": [
    "#Change to Datetime\n",
    "df[\"date\"]= pd.to_datetime(df[\"date\"])\n",
    "df = df.set_index('date')\n",
    "df.index = df.index.normalize()"
   ]
  },
  {
   "cell_type": "code",
   "execution_count": 19,
   "metadata": {},
   "outputs": [
    {
     "name": "stdout",
     "output_type": "stream",
     "text": [
      "CPU times: user 240 ms, sys: 8.86 ms, total: 249 ms\n",
      "Wall time: 262 ms\n"
     ]
    }
   ],
   "source": [
    "%%time\n",
    "#convert DateTime index to eastern time. \n",
    "eastern = pytz.timezone('US/Eastern')\n",
    "df.index = df.index.tz_convert(eastern).tz_localize(None)\n",
    "#put into year/month/day format\n",
    "df.index = df.index.strftime('%Y-%m-%d')"
   ]
  },
  {
   "cell_type": "markdown",
   "metadata": {},
   "source": [
    "# Using [tldextract](https://pypi.org/project/tldextract/) to extract company names from url's"
   ]
  },
  {
   "cell_type": "code",
   "execution_count": 20,
   "metadata": {},
   "outputs": [],
   "source": [
    "import tldextract"
   ]
  },
  {
   "cell_type": "code",
   "execution_count": 21,
   "metadata": {},
   "outputs": [],
   "source": [
    "def get_outlet(link):\n",
    "    res = tldextract.extract(link)\n",
    "    return res.domain"
   ]
  },
  {
   "cell_type": "code",
   "execution_count": 22,
   "metadata": {},
   "outputs": [
    {
     "name": "stdout",
     "output_type": "stream",
     "text": [
      "CPU times: user 376 ms, sys: 10.2 ms, total: 386 ms\n",
      "Wall time: 404 ms\n"
     ]
    }
   ],
   "source": [
    "%%time\n",
    "df['news_outlet'] = df['source'].apply(get_outlet)"
   ]
  },
  {
   "cell_type": "markdown",
   "metadata": {},
   "source": [
    "# Getting historical Stock Prices"
   ]
  },
  {
   "cell_type": "code",
   "execution_count": null,
   "metadata": {},
   "outputs": [],
   "source": [
    "from twelvedata import TDClient\n",
    "td = TDClient(apikey=\"ef26202dacaf412fb157a05403f81ca3\") "
   ]
  },
  {
   "cell_type": "code",
   "execution_count": null,
   "metadata": {},
   "outputs": [],
   "source": [
    "times.append(ts)"
   ]
  },
  {
   "cell_type": "code",
   "execution_count": null,
   "metadata": {},
   "outputs": [],
   "source": [
    "def get_month_day_range(year):\n",
    "    ranges = []\n",
    "    year = [(pd.datetime(year,1,1)), (pd.datetime(year,2,1)), (pd.datetime(year,3,1)),\n",
    "           (pd.datetime(year,4,1)), (pd.datetime(year,5,1)), (pd.datetime(year,6,1)),\n",
    "           (pd.datetime(year,7,1)), (pd.datetime(year,8,1)), (pd.datetime(year,9,1)),\n",
    "           (pd.datetime(year,10,1)), (pd.datetime(year,11,1)), (pd.datetime(year,12,1))]\n",
    "    for date in year:\n",
    "        last_day = date + relativedelta(day=1, months=+1, days=-1)\n",
    "        first_day = date + relativedelta(day=1)\n",
    "        ranges.append((first_day.strftime('%Y-%m-%d'), last_day.strftime('%Y-%m-%d')))\n",
    "    return ranges\n",
    "\n",
    "months_2020 = get_month_day_range(2020)\n",
    "months_2020"
   ]
  },
  {
   "cell_type": "code",
   "execution_count": null,
   "metadata": {},
   "outputs": [],
   "source": [
    "months_2018 = get_month_day_range(2010)\n",
    "months_2018"
   ]
  },
  {
   "cell_type": "code",
   "execution_count": null,
   "metadata": {},
   "outputs": [],
   "source": [
    "times = []"
   ]
  },
  {
   "cell_type": "code",
   "execution_count": null,
   "metadata": {},
   "outputs": [],
   "source": [
    "#Gather historical data from twelvedata API\n",
    "counter =1\n",
    "for start,end in months_2018:\n",
    "    time.sleep(25)\n",
    "    ts = td.time_series(\n",
    "    symbol=\"AAPL\",\n",
    "    interval=\"1day\",\n",
    "    start_date=start,\n",
    "    end_date=end\n",
    "    ).as_pandas()\n",
    "    times.append(ts)\n",
    "    print(counter, start,end)\n",
    "    counter +=1\n",
    "    "
   ]
  },
  {
   "cell_type": "code",
   "execution_count": null,
   "metadata": {},
   "outputs": [],
   "source": [
    "stock_prices_appl = pd.concat(times)"
   ]
  },
  {
   "cell_type": "code",
   "execution_count": null,
   "metadata": {},
   "outputs": [],
   "source": [
    "#Normalize the datetime indexes\n",
    "stock_prices_appl\n",
    "stock_prices_appl.index = stock_prices_appl.index.normalize()"
   ]
  },
  {
   "cell_type": "code",
   "execution_count": null,
   "metadata": {},
   "outputs": [],
   "source": [
    "#Merge prices and main df's on the date\n",
    "merge=pd.merge(df,stock_prices_appl, how='outer', left_index=True, right_index=True)"
   ]
  },
  {
   "cell_type": "code",
   "execution_count": null,
   "metadata": {},
   "outputs": [],
   "source": [
    "#localize the price df\n",
    "stock_prices_appl.index = stock_prices_appl.index.tz_localize(None)"
   ]
  },
  {
   "cell_type": "code",
   "execution_count": null,
   "metadata": {},
   "outputs": [],
   "source": [
    "stock_prices_appl['day_change'] = np.nan\n",
    "stock_prices_appl['increase'] = np.nan"
   ]
  },
  {
   "cell_type": "code",
   "execution_count": null,
   "metadata": {},
   "outputs": [],
   "source": [
    "prices_index = stock_prices_appl.index.strftime('%Y-%m-%d').to_list()"
   ]
  },
  {
   "cell_type": "code",
   "execution_count": null,
   "metadata": {},
   "outputs": [],
   "source": [
    "df_res = pd.DataFrame(columns = ['day_change', 'increase', 'date'])\n",
    "for i,stock_price in enumerate(prices_index):\n",
    "    try:\n",
    "        start = stock_prices_appl.loc[prices_index[i]].open[0]\n",
    "        stop = stock_prices_appl.loc[prices_index[i+1]].open[0]\n",
    "        direction = start - stop\n",
    "        if direction < 0:\n",
    "            increase = 0\n",
    "        else:\n",
    "            increase = 1\n",
    "        df_res = df_res.append({'day_change': direction, 'increase':increase, 'date':stock_price}, ignore_index=True)\n",
    "    except:\n",
    "        continue"
   ]
  },
  {
   "cell_type": "code",
   "execution_count": null,
   "metadata": {},
   "outputs": [],
   "source": [
    "df_res[\"date\"]= pd.to_datetime(df_res[\"date\"])\n",
    "df_res = df_res.set_index('date')\n",
    "df_res.index = df_res.index.normalize()"
   ]
  },
  {
   "cell_type": "code",
   "execution_count": null,
   "metadata": {},
   "outputs": [],
   "source": [
    "targets2020 = df_res.shift(periods=1, fill_value=0)\n",
    "targets2020.head()"
   ]
  },
  {
   "cell_type": "code",
   "execution_count": null,
   "metadata": {},
   "outputs": [],
   "source": [
    "targets2020.to_csv('yearly_targets/targets2010.csv')"
   ]
  },
  {
   "cell_type": "markdown",
   "metadata": {},
   "source": [
    "# Predict Sentiment for each Article with VADER"
   ]
  },
  {
   "cell_type": "code",
   "execution_count": 23,
   "metadata": {},
   "outputs": [],
   "source": [
    "from vaderSentiment.vaderSentiment import SentimentIntensityAnalyzer"
   ]
  },
  {
   "cell_type": "code",
   "execution_count": 24,
   "metadata": {},
   "outputs": [],
   "source": [
    "analyzer = SentimentIntensityAnalyzer()\n",
    "\n",
    "def sentiment_analyzer_scores(article):\n",
    "    '''\n",
    "    VADER Sentiment used to tag the.\n",
    "    Returns the predicted labels: positive/negative/neutral.\n",
    "    Instantiate analyzer before running this function:\n",
    "    analyzer = SentimentIntensityAnalyzer()\n",
    "    '''\n",
    "    global analyzer\n",
    "\n",
    "    score = analyzer.polarity_scores(article)\n",
    "\n",
    "    if score['compound'] >= .05:\n",
    "        sent = 'positive'\n",
    "    elif score['compound'] <= -.05:\n",
    "        sent = 'negative'\n",
    "    else:\n",
    "        sent = 'neutral'\n",
    "\n",
    "    return sent"
   ]
  },
  {
   "cell_type": "code",
   "execution_count": 25,
   "metadata": {},
   "outputs": [
    {
     "name": "stdout",
     "output_type": "stream",
     "text": [
      "CPU times: user 10min 35s, sys: 15.4 s, total: 10min 51s\n",
      "Wall time: 11min 34s\n"
     ]
    }
   ],
   "source": [
    "%%time\n",
    "df['sentiment'] = df['fulltext'].apply(sentiment_analyzer_scores)"
   ]
  },
  {
   "cell_type": "code",
   "execution_count": 26,
   "metadata": {},
   "outputs": [
    {
     "data": {
      "image/png": "[encoded data removed]",
      "text/plain": [
       "<Figure size 432x288 with 1 Axes>"
      ]
     },
     "metadata": {
      "needs_background": "light"
     },
     "output_type": "display_data"
    }
   ],
   "source": [
    "sns.countplot(df.sentiment);"
   ]
  },
  {
   "cell_type": "code",
   "execution_count": null,
   "metadata": {},
   "outputs": [],
   "source": [
    "# for i,art in enumerate(df.cleaned_text[:200]):\n",
    "#     score = sentiment_analyzer_scores(art)\n",
    "#     print(i, score)"
   ]
  },
  {
   "cell_type": "markdown",
   "metadata": {},
   "source": [
    "# Tokenize"
   ]
  },
  {
   "cell_type": "code",
   "execution_count": 27,
   "metadata": {},
   "outputs": [],
   "source": [
    "from nltk.tokenize import regexp_tokenize \n",
    "\n",
    "def toke(text):\n",
    "    tokens = regexp_tokenize(text, \"[\\w']+\")\n",
    "    return tokens\n",
    "\n",
    "df['tokens'] = df['cleaned_text'].apply(toke)"
   ]
  },
  {
   "cell_type": "code",
   "execution_count": 65,
   "metadata": {},
   "outputs": [
    {
     "data": {
      "text/plain": [
       "0                  gizmodo\n",
       "1                dailymail\n",
       "2                   wbaltv\n",
       "3        business-standard\n",
       "4                  decider\n",
       "               ...        \n",
       "27172                  bgr\n",
       "27173              ibtimes\n",
       "27174          independent\n",
       "27175                 ndtv\n",
       "27176                 ndtv\n",
       "Name: news_outlet, Length: 27177, dtype: object"
      ]
     },
     "execution_count": 65,
     "metadata": {},
     "output_type": "execute_result"
    }
   ],
   "source": [
    "df.news_outlet"
   ]
  },
  {
   "cell_type": "markdown",
   "metadata": {},
   "source": [
    "# Lemmatize "
   ]
  },
  {
   "cell_type": "code",
   "execution_count": 29,
   "metadata": {},
   "outputs": [],
   "source": [
    "import nltk\n",
    "from nltk.corpus import stopwords"
   ]
  },
  {
   "cell_type": "code",
   "execution_count": 35,
   "metadata": {},
   "outputs": [],
   "source": [
    "def unlist(x):\n",
    "    return \", \".join(x)"
   ]
  },
  {
   "cell_type": "code",
   "execution_count": 36,
   "metadata": {},
   "outputs": [],
   "source": [
    "tokenizer = nltk.tokenize.TweetTokenizer()\n",
    "lemmatizer = nltk.stem.WordNetLemmatizer()\n",
    "stop_words=list(set(stopwords.words(\"english\")))\n",
    "def tokenize(text):\n",
    "    return nltk.word_tokenize(text)\n",
    "def remove_stopwords(text):\n",
    "    return [word for word in text if word not in stop_words]\n",
    "def lemmatize_text(text):\n",
    "     return [lemmatizer.lemmatize(word) for word in text]"
   ]
  },
  {
   "cell_type": "code",
   "execution_count": 39,
   "metadata": {},
   "outputs": [],
   "source": [
    "df.tokens = df.tokens.apply(remove_stopwords)"
   ]
  },
  {
   "cell_type": "code",
   "execution_count": 40,
   "metadata": {},
   "outputs": [],
   "source": [
    "df.tokens = df.tokens.apply(lemmatize_text)"
   ]
  },
  {
   "cell_type": "code",
   "execution_count": 41,
   "metadata": {},
   "outputs": [],
   "source": [
    "df.tokens = df.tokens.apply(unlist)"
   ]
  },
  {
   "cell_type": "markdown",
   "metadata": {},
   "source": [
    "# TFIDF"
   ]
  },
  {
   "cell_type": "code",
   "execution_count": 60,
   "metadata": {},
   "outputs": [
    {
     "name": "stdout",
     "output_type": "stream",
     "text": [
      "CPU times: user 1min 25s, sys: 8.8 s, total: 1min 34s\n",
      "Wall time: 1min 45s\n"
     ]
    }
   ],
   "source": [
    "%%time\n",
    " # --> this cell took 9 min 54 seconds to run\n",
    "from sklearn.feature_extraction.text import TfidfVectorizer \n",
    "\n",
    "rf_feats = df.tokens.values\n",
    "tfidfconverter = TfidfVectorizer(max_features=10000, ngram_range=(1,3))  \n",
    "\n",
    "X = tfidfconverter.fit_transform(rf_feats).toarray()\n",
    "\n",
    "tfidf_df = pd.DataFrame(X)"
   ]
  },
  {
   "cell_type": "code",
   "execution_count": 61,
   "metadata": {},
   "outputs": [],
   "source": [
    "df = df.reset_index()\n",
    "frames = [df, tfidf_df]\n",
    "main_df = pd.concat(frames, axis=1) "
   ]
  },
  {
   "cell_type": "code",
   "execution_count": 62,
   "metadata": {},
   "outputs": [],
   "source": [
    "main_df.to_csv('main_data/maindf.csv')"
   ]
  },
  {
   "cell_type": "code",
   "execution_count": 63,
   "metadata": {},
   "outputs": [
    {
     "data": {
      "text/html": [
       "<div>\n",
       "<style scoped>\n",
       "    .dataframe tbody tr th:only-of-type {\n",
       "        vertical-align: middle;\n",
       "    }\n",
       "\n",
       "    .dataframe tbody tr th {\n",
       "        vertical-align: top;\n",
       "    }\n",
       "\n",
       "    .dataframe thead th {\n",
       "        text-align: right;\n",
       "    }\n",
       "</style>\n",
       "<table border=\"1\" class=\"dataframe\">\n",
       "  <thead>\n",
       "    <tr style=\"text-align: right;\">\n",
       "      <th></th>\n",
       "      <th>index</th>\n",
       "      <th>update</th>\n",
       "      <th>source</th>\n",
       "      <th>author</th>\n",
       "      <th>fulltext</th>\n",
       "      <th>summary</th>\n",
       "      <th>title</th>\n",
       "      <th>cleaned_text</th>\n",
       "      <th>cleaned_authors</th>\n",
       "      <th>news_outlet</th>\n",
       "      <th>...</th>\n",
       "      <th>9990</th>\n",
       "      <th>9991</th>\n",
       "      <th>9992</th>\n",
       "      <th>9993</th>\n",
       "      <th>9994</th>\n",
       "      <th>9995</th>\n",
       "      <th>9996</th>\n",
       "      <th>9997</th>\n",
       "      <th>9998</th>\n",
       "      <th>9999</th>\n",
       "    </tr>\n",
       "  </thead>\n",
       "  <tbody>\n",
       "    <tr>\n",
       "      <th>0</th>\n",
       "      <td>2020-08-17</td>\n",
       "      <td>NaN</td>\n",
       "      <td>https://gizmodo.com/apple-renames-apple-beats-...</td>\n",
       "      <td>[]</td>\n",
       "      <td>Photo : JOSH EDELSON/AFP ( Getty Images )\\n\\nA...</td>\n",
       "      <td>NaN</td>\n",
       "      <td>Apple Renames Apple Beats 1 Apple Music 1, Not...</td>\n",
       "      <td>photo josh edelson afp getty images apple toda...</td>\n",
       "      <td></td>\n",
       "      <td>gizmodo</td>\n",
       "      <td>...</td>\n",
       "      <td>0.0</td>\n",
       "      <td>0.0</td>\n",
       "      <td>0.0</td>\n",
       "      <td>0.0</td>\n",
       "      <td>0.0</td>\n",
       "      <td>0.0</td>\n",
       "      <td>0.0</td>\n",
       "      <td>0.0</td>\n",
       "      <td>0.0</td>\n",
       "      <td>0.0</td>\n",
       "    </tr>\n",
       "    <tr>\n",
       "      <th>1</th>\n",
       "      <td>2020-08-16</td>\n",
       "      <td>2020-08-17 21:20:26+01:00</td>\n",
       "      <td>https://www.dailymail.co.uk/sciencetech/articl...</td>\n",
       "      <td>['Stacy Liberatore', 'Stacy Liberatore For Dai...</td>\n",
       "      <td>Apple retaliated against Epic Games after bein...</td>\n",
       "      <td>NaN</td>\n",
       "      <td>Apple bans Epic Games from App store after ant...</td>\n",
       "      <td>apple retaliated against epic games after bein...</td>\n",
       "      <td>stacy liberatore stacy liberatore for dailymai...</td>\n",
       "      <td>dailymail</td>\n",
       "      <td>...</td>\n",
       "      <td>0.0</td>\n",
       "      <td>0.0</td>\n",
       "      <td>0.0</td>\n",
       "      <td>0.0</td>\n",
       "      <td>0.0</td>\n",
       "      <td>0.0</td>\n",
       "      <td>0.0</td>\n",
       "      <td>0.0</td>\n",
       "      <td>0.0</td>\n",
       "      <td>0.0</td>\n",
       "    </tr>\n",
       "    <tr>\n",
       "      <th>2</th>\n",
       "      <td>2020-08-13</td>\n",
       "      <td>2020-08-14 19:52:00+00:00</td>\n",
       "      <td>https://www.wbaltv.com/article/fortnite-s-make...</td>\n",
       "      <td>['Brian Fung', 'Shannon Liao']</td>\n",
       "      <td>Hide Transcript Show Transcript\\n\\nThe company...</td>\n",
       "      <td>NaN</td>\n",
       "      <td>Fortnite's maker sues Apple and Google after t...</td>\n",
       "      <td>hide transcript show transcript the company be...</td>\n",
       "      <td>brian fung shannon liao</td>\n",
       "      <td>wbaltv</td>\n",
       "      <td>...</td>\n",
       "      <td>0.0</td>\n",
       "      <td>0.0</td>\n",
       "      <td>0.0</td>\n",
       "      <td>0.0</td>\n",
       "      <td>0.0</td>\n",
       "      <td>0.0</td>\n",
       "      <td>0.0</td>\n",
       "      <td>0.0</td>\n",
       "      <td>0.0</td>\n",
       "      <td>0.0</td>\n",
       "    </tr>\n",
       "    <tr>\n",
       "      <th>3</th>\n",
       "      <td>2020-08-12</td>\n",
       "      <td>NaN</td>\n",
       "      <td>https://www.business-standard.com/article/comp...</td>\n",
       "      <td>['Mark Gurman']</td>\n",
       "      <td>Inc. is readying a series of bundles that will...</td>\n",
       "      <td>NaN</td>\n",
       "      <td>Apple likely to unveil subscription bundles to...</td>\n",
       "      <td>inc is readying a series of bundles that will ...</td>\n",
       "      <td>mark gurman</td>\n",
       "      <td>business-standard</td>\n",
       "      <td>...</td>\n",
       "      <td>0.0</td>\n",
       "      <td>0.0</td>\n",
       "      <td>0.0</td>\n",
       "      <td>0.0</td>\n",
       "      <td>0.0</td>\n",
       "      <td>0.0</td>\n",
       "      <td>0.0</td>\n",
       "      <td>0.0</td>\n",
       "      <td>0.0</td>\n",
       "      <td>0.0</td>\n",
       "    </tr>\n",
       "    <tr>\n",
       "      <th>4</th>\n",
       "      <td>2020-08-12</td>\n",
       "      <td>2020-08-13 00:00:00</td>\n",
       "      <td>https://decider.com/2020/08/13/apple-plans-dig...</td>\n",
       "      <td>[]</td>\n",
       "      <td>Apple is about to make it much easier — and le...</td>\n",
       "      <td>NaN</td>\n",
       "      <td>Apple Reportedly Bundling Apple TV+ With Apple...</td>\n",
       "      <td>apple is about to make it much easier and less...</td>\n",
       "      <td></td>\n",
       "      <td>decider</td>\n",
       "      <td>...</td>\n",
       "      <td>0.0</td>\n",
       "      <td>0.0</td>\n",
       "      <td>0.0</td>\n",
       "      <td>0.0</td>\n",
       "      <td>0.0</td>\n",
       "      <td>0.0</td>\n",
       "      <td>0.0</td>\n",
       "      <td>0.0</td>\n",
       "      <td>0.0</td>\n",
       "      <td>0.0</td>\n",
       "    </tr>\n",
       "  </tbody>\n",
       "</table>\n",
       "<p>5 rows × 10012 columns</p>\n",
       "</div>"
      ],
      "text/plain": [
       "        index                     update  \\\n",
       "0  2020-08-17                        NaN   \n",
       "1  2020-08-16  2020-08-17 21:20:26+01:00   \n",
       "2  2020-08-13  2020-08-14 19:52:00+00:00   \n",
       "3  2020-08-12                        NaN   \n",
       "4  2020-08-12        2020-08-13 00:00:00   \n",
       "\n",
       "                                              source  \\\n",
       "0  https://gizmodo.com/apple-renames-apple-beats-...   \n",
       "1  https://www.dailymail.co.uk/sciencetech/articl...   \n",
       "2  https://www.wbaltv.com/article/fortnite-s-make...   \n",
       "3  https://www.business-standard.com/article/comp...   \n",
       "4  https://decider.com/2020/08/13/apple-plans-dig...   \n",
       "\n",
       "                                              author  \\\n",
       "0                                                 []   \n",
       "1  ['Stacy Liberatore', 'Stacy Liberatore For Dai...   \n",
       "2                     ['Brian Fung', 'Shannon Liao']   \n",
       "3                                    ['Mark Gurman']   \n",
       "4                                                 []   \n",
       "\n",
       "                                            fulltext  summary  \\\n",
       "0  Photo : JOSH EDELSON/AFP ( Getty Images )\\n\\nA...      NaN   \n",
       "1  Apple retaliated against Epic Games after bein...      NaN   \n",
       "2  Hide Transcript Show Transcript\\n\\nThe company...      NaN   \n",
       "3  Inc. is readying a series of bundles that will...      NaN   \n",
       "4  Apple is about to make it much easier — and le...      NaN   \n",
       "\n",
       "                                               title  \\\n",
       "0  Apple Renames Apple Beats 1 Apple Music 1, Not...   \n",
       "1  Apple bans Epic Games from App store after ant...   \n",
       "2  Fortnite's maker sues Apple and Google after t...   \n",
       "3  Apple likely to unveil subscription bundles to...   \n",
       "4  Apple Reportedly Bundling Apple TV+ With Apple...   \n",
       "\n",
       "                                        cleaned_text  \\\n",
       "0  photo josh edelson afp getty images apple toda...   \n",
       "1  apple retaliated against epic games after bein...   \n",
       "2  hide transcript show transcript the company be...   \n",
       "3  inc is readying a series of bundles that will ...   \n",
       "4  apple is about to make it much easier and less...   \n",
       "\n",
       "                                     cleaned_authors        news_outlet  ...  \\\n",
       "0                                                               gizmodo  ...   \n",
       "1  stacy liberatore stacy liberatore for dailymai...          dailymail  ...   \n",
       "2                            brian fung shannon liao             wbaltv  ...   \n",
       "3                                        mark gurman  business-standard  ...   \n",
       "4                                                               decider  ...   \n",
       "\n",
       "  9990 9991  9992  9993  9994  9995  9996  9997  9998  9999  \n",
       "0  0.0  0.0   0.0   0.0   0.0   0.0   0.0   0.0   0.0   0.0  \n",
       "1  0.0  0.0   0.0   0.0   0.0   0.0   0.0   0.0   0.0   0.0  \n",
       "2  0.0  0.0   0.0   0.0   0.0   0.0   0.0   0.0   0.0   0.0  \n",
       "3  0.0  0.0   0.0   0.0   0.0   0.0   0.0   0.0   0.0   0.0  \n",
       "4  0.0  0.0   0.0   0.0   0.0   0.0   0.0   0.0   0.0   0.0  \n",
       "\n",
       "[5 rows x 10012 columns]"
      ]
     },
     "execution_count": 63,
     "metadata": {},
     "output_type": "execute_result"
    }
   ],
   "source": [
    "main_df.head()"
   ]
  },
  {
   "cell_type": "code",
   "execution_count": null,
   "metadata": {},
   "outputs": [],
   "source": []
  }
 ],
 "metadata": {
  "kernelspec": {
   "display_name": "learn-env",
   "language": "python",
   "name": "learn-env"
  },
  "language_info": {
   "codemirror_mode": {
    "name": "ipython",
    "version": 3
   },
   "file_extension": ".py",
   "mimetype": "text/x-python",
   "name": "python",
   "nbconvert_exporter": "python",
   "pygments_lexer": "ipython3",
   "version": "3.6.10"
  }
 },
 "nbformat": 4,
 "nbformat_minor": 4
}
