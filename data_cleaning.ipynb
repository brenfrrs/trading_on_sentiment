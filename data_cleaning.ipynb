{
 "cells": [
  {
   "cell_type": "code",
   "execution_count": 344,
   "metadata": {},
   "outputs": [],
   "source": [
    "import pandas as pd\n",
    "import numpy as np\n",
    "import datetime\n",
    "from dateutil.relativedelta import relativedelta\n",
    "import re"
   ]
  },
  {
   "cell_type": "code",
   "execution_count": 195,
   "metadata": {},
   "outputs": [
    {
     "data": {
      "text/plain": [
       "(6545, 7)"
      ]
     },
     "execution_count": 195,
     "metadata": {},
     "output_type": "execute_result"
    }
   ],
   "source": [
    "df = pd.read_csv('Applenews2019.csv', index_col=0)\n",
    "df.dropna(subset=['fulltext'], inplace=True)\n",
    "df.shape"
   ]
  },
  {
   "cell_type": "markdown",
   "metadata": {},
   "source": [
    "# Clean newlines and special characters"
   ]
  },
  {
   "cell_type": "code",
   "execution_count": 196,
   "metadata": {},
   "outputs": [],
   "source": [
    "def clean_text(text):\n",
    "    text.replace(\"\\n\",\" \")\n",
    "    text =  ' '.join(re.sub(\"([^0-9A-Za-z])\",\" \",text).split())\n",
    "    return text.lower()"
   ]
  },
  {
   "cell_type": "code",
   "execution_count": 198,
   "metadata": {},
   "outputs": [],
   "source": [
    "df['cleaned_text'] = df['fulltext'].apply(clean_text)\n",
    "df['cleaned_authors'] = df['author'].apply(clean_text)"
   ]
  },
  {
   "cell_type": "markdown",
   "metadata": {},
   "source": [
    "#### Changing the UTC time to EST."
   ]
  },
  {
   "cell_type": "code",
   "execution_count": 199,
   "metadata": {},
   "outputs": [],
   "source": [
    "import pytz"
   ]
  },
  {
   "cell_type": "code",
   "execution_count": 200,
   "metadata": {},
   "outputs": [],
   "source": [
    "#Change to Datetime\n",
    "df[\"date\"]= pd.to_datetime(df[\"date\"])\n",
    "df = df.set_index('date')\n",
    "df.index = df.index.normalize()"
   ]
  },
  {
   "cell_type": "code",
   "execution_count": 201,
   "metadata": {},
   "outputs": [],
   "source": [
    "#convert DateTime index to eastern time. \n",
    "eastern = pytz.timezone('US/Eastern')\n",
    "df.index = df.index.tz_convert(eastern).tz_localize(None)\n",
    "#put into year/month/day format\n",
    "df.index = df.index.strftime('%Y-%m-%d')"
   ]
  },
  {
   "cell_type": "markdown",
   "metadata": {},
   "source": [
    "# Using [tldextract](https://pypi.org/project/tldextract/) to extract company names from url's"
   ]
  },
  {
   "cell_type": "code",
   "execution_count": 202,
   "metadata": {},
   "outputs": [],
   "source": [
    "import tldextract"
   ]
  },
  {
   "cell_type": "code",
   "execution_count": 203,
   "metadata": {},
   "outputs": [],
   "source": [
    "def get_outlet(link):\n",
    "    res = tldextract.extract(link)\n",
    "    return res.domain"
   ]
  },
  {
   "cell_type": "code",
   "execution_count": 204,
   "metadata": {},
   "outputs": [],
   "source": [
    "df['news_outlet'] = df['source'].apply(get_outlet)"
   ]
  },
  {
   "cell_type": "markdown",
   "metadata": {},
   "source": [
    "# Getting historical Stock Prices"
   ]
  },
  {
   "cell_type": "code",
   "execution_count": 166,
   "metadata": {},
   "outputs": [],
   "source": [
    "from twelvedata import TDClient\n",
    "td = TDClient(apikey=\"ef26202dacaf412fb157a05403f81ca3\") "
   ]
  },
  {
   "cell_type": "code",
   "execution_count": 59,
   "metadata": {},
   "outputs": [],
   "source": [
    " ts = td.time_series(\n",
    "    symbol=\"AAPL\",\n",
    "    interval=\"1day\",\n",
    "    start_date=\"2020-8-01\",\n",
    "    end_date=\"2020-8-30\"\n",
    "    ).as_pandas()"
   ]
  },
  {
   "cell_type": "code",
   "execution_count": 64,
   "metadata": {},
   "outputs": [],
   "source": [
    "times = []"
   ]
  },
  {
   "cell_type": "code",
   "execution_count": 61,
   "metadata": {},
   "outputs": [],
   "source": [
    "times.append(ts)"
   ]
  },
  {
   "cell_type": "code",
   "execution_count": 346,
   "metadata": {},
   "outputs": [
    {
     "data": {
      "text/plain": [
       "[('2020-01-01', '2020-01-31'),\n",
       " ('2020-02-01', '2020-02-29'),\n",
       " ('2020-03-01', '2020-03-31'),\n",
       " ('2020-04-01', '2020-04-30'),\n",
       " ('2020-05-01', '2020-05-31'),\n",
       " ('2020-06-01', '2020-06-30'),\n",
       " ('2020-07-01', '2020-07-31'),\n",
       " ('2020-08-01', '2020-08-31'),\n",
       " ('2020-09-01', '2020-09-30'),\n",
       " ('2020-10-01', '2020-10-31'),\n",
       " ('2020-11-01', '2020-11-30'),\n",
       " ('2020-12-01', '2020-12-31')]"
      ]
     },
     "execution_count": 346,
     "metadata": {},
     "output_type": "execute_result"
    }
   ],
   "source": [
    "def get_month_day_range(year):\n",
    "    ranges = []\n",
    "    year = [(pd.datetime(year,1,1)), (pd.datetime(year,2,1)), (pd.datetime(year,3,1)),\n",
    "           (pd.datetime(year,4,1)), (pd.datetime(year,5,1)), (pd.datetime(year,6,1)),\n",
    "           (pd.datetime(year,7,1)), (pd.datetime(year,8,1)), (pd.datetime(year,9,1)),\n",
    "           (pd.datetime(year,10,1)), (pd.datetime(year,11,1)), (pd.datetime(year,12,1))]\n",
    "    for date in year:\n",
    "        last_day = date + relativedelta(day=1, months=+1, days=-1)\n",
    "        first_day = date + relativedelta(day=1)\n",
    "        ranges.append((first_day.strftime('%Y-%m-%d'), last_day.strftime('%Y-%m-%d')))\n",
    "    return ranges\n",
    "\n",
    "months_2020 = get_month_day_range(2020)\n",
    "months_2020"
   ]
  },
  {
   "cell_type": "code",
   "execution_count": null,
   "metadata": {},
   "outputs": [],
   "source": [
    "dates = []"
   ]
  },
  {
   "cell_type": "code",
   "execution_count": 67,
   "metadata": {},
   "outputs": [
    {
     "name": "stdout",
     "output_type": "stream",
     "text": [
      "1 2020-9-1 2020-9-30\n",
      "2 2020-10-1 2020-10-31\n",
      "3 2020-11-1 2020-11-30\n"
     ]
    }
   ],
   "source": [
    "#Gather historical data from twelvedata API\n",
    "counter =1\n",
    "for start,end in months_2020:\n",
    "    ts = td.time_series(\n",
    "    symbol=\"AAPL\",\n",
    "    interval=\"1day\",\n",
    "    start_date=start,\n",
    "    end_date=end\n",
    "    ).as_pandas()\n",
    "    times.append(ts)\n",
    "    print(counter, start,end)\n",
    "    counter +=1\n",
    "    "
   ]
  },
  {
   "cell_type": "code",
   "execution_count": 73,
   "metadata": {},
   "outputs": [],
   "source": [
    "stock_prices_2019_appl = pd.concat(times)"
   ]
  },
  {
   "cell_type": "code",
   "execution_count": 112,
   "metadata": {},
   "outputs": [],
   "source": [
    "#Normalize the datetime indexes\n",
    "stock_prices_2019_appl\n",
    "stock_prices_2019_appl.index = stock_prices_2019_appl.index.normalize()"
   ]
  },
  {
   "cell_type": "code",
   "execution_count": 175,
   "metadata": {},
   "outputs": [],
   "source": [
    "#Merge prices and main df's on the date\n",
    "merge=pd.merge(df,stock_prices_2019_appl, how='outer', left_index=True, right_index=True)"
   ]
  },
  {
   "cell_type": "code",
   "execution_count": 123,
   "metadata": {},
   "outputs": [],
   "source": [
    "#localize the price df\n",
    "stock_prices_2019_appl.index = stock_prices_2019_appl.index.tz_localize(None)"
   ]
  },
  {
   "cell_type": "code",
   "execution_count": 267,
   "metadata": {},
   "outputs": [],
   "source": [
    "stock_prices_2019_appl['day_change'] = np.nan\n",
    "stock_prices_2019_appl['increase'] = np.nan"
   ]
  },
  {
   "cell_type": "code",
   "execution_count": 216,
   "metadata": {},
   "outputs": [],
   "source": [
    "prices_index = stock_prices_2019_appl.index.strftime('%Y-%m-%d').to_list()"
   ]
  },
  {
   "cell_type": "code",
   "execution_count": 321,
   "metadata": {},
   "outputs": [
    {
     "data": {
      "text/plain": [
       "(DatetimeIndex(['2020-01-30'], dtype='datetime64[ns]', name='datetime', freq=None),\n",
       " 80.135)"
      ]
     },
     "execution_count": 321,
     "metadata": {},
     "output_type": "execute_result"
    }
   ],
   "source": [
    "start_dt = stock_prices_2019_appl[prices_index[1]].index\n",
    "start = stock_prices_2019_appl[prices_index[1]].open[0]\n",
    "start_dt, start"
   ]
  },
  {
   "cell_type": "code",
   "execution_count": 322,
   "metadata": {},
   "outputs": [
    {
     "data": {
      "text/plain": [
       "(DatetimeIndex(['2020-01-29'], dtype='datetime64[ns]', name='datetime', freq=None),\n",
       " 81.1125)"
      ]
     },
     "execution_count": 322,
     "metadata": {},
     "output_type": "execute_result"
    }
   ],
   "source": [
    "stop_dt = stock_prices_2019_appl[prices_index[2]].index\n",
    "stop = stock_prices_2019_appl[prices_index[2]].open[0]\n",
    "stop_dt, stop"
   ]
  },
  {
   "cell_type": "code",
   "execution_count": 323,
   "metadata": {},
   "outputs": [
    {
     "data": {
      "text/plain": [
       "-0.977499999999992"
      ]
     },
     "execution_count": 323,
     "metadata": {},
     "output_type": "execute_result"
    }
   ],
   "source": [
    "start-stop"
   ]
  },
  {
   "cell_type": "code",
   "execution_count": 327,
   "metadata": {},
   "outputs": [],
   "source": [
    "df_res = pd.DataFrame(columns = ['day_change', 'increase', 'date'])\n",
    "for i,stock_price in enumerate(prices_index):\n",
    "    try:\n",
    "        start = stock_prices_2019_appl.loc[prices_index[i]].open[0]\n",
    "        stop = stock_prices_2019_appl.loc[prices_index[i+1]].open[0]\n",
    "        direction = start - stop\n",
    "        if direction < 0:\n",
    "            increase = 0\n",
    "        else:\n",
    "            increase = 1\n",
    "        df_res = df_res.append({'day_change': direction, 'increase':increase, 'date':stock_price}, ignore_index=True)\n",
    "    except:\n",
    "        continue"
   ]
  },
  {
   "cell_type": "code",
   "execution_count": 335,
   "metadata": {},
   "outputs": [
    {
     "data": {
      "text/html": [
       "<div>\n",
       "<style scoped>\n",
       "    .dataframe tbody tr th:only-of-type {\n",
       "        vertical-align: middle;\n",
       "    }\n",
       "\n",
       "    .dataframe tbody tr th {\n",
       "        vertical-align: top;\n",
       "    }\n",
       "\n",
       "    .dataframe thead th {\n",
       "        text-align: right;\n",
       "    }\n",
       "</style>\n",
       "<table border=\"1\" class=\"dataframe\">\n",
       "  <thead>\n",
       "    <tr style=\"text-align: right;\">\n",
       "      <th></th>\n",
       "      <th>open</th>\n",
       "      <th>high</th>\n",
       "      <th>low</th>\n",
       "      <th>close</th>\n",
       "      <th>volume</th>\n",
       "      <th>day_change</th>\n",
       "      <th>increase</th>\n",
       "    </tr>\n",
       "    <tr>\n",
       "      <th>datetime</th>\n",
       "      <th></th>\n",
       "      <th></th>\n",
       "      <th></th>\n",
       "      <th></th>\n",
       "      <th></th>\n",
       "      <th></th>\n",
       "      <th></th>\n",
       "    </tr>\n",
       "  </thead>\n",
       "  <tbody>\n",
       "    <tr>\n",
       "      <th>2020-02-12</th>\n",
       "      <td>80.3675</td>\n",
       "      <td>81.805</td>\n",
       "      <td>80.3675</td>\n",
       "      <td>81.8</td>\n",
       "      <td>28432600</td>\n",
       "      <td>NaN</td>\n",
       "      <td>NaN</td>\n",
       "    </tr>\n",
       "  </tbody>\n",
       "</table>\n",
       "</div>"
      ],
      "text/plain": [
       "               open    high      low  close    volume  day_change  increase\n",
       "datetime                                                                   \n",
       "2020-02-12  80.3675  81.805  80.3675   81.8  28432600         NaN       NaN"
      ]
     },
     "execution_count": 335,
     "metadata": {},
     "output_type": "execute_result"
    }
   ],
   "source": [
    "stock_prices_2019_appl['2020-2-12']"
   ]
  },
  {
   "cell_type": "code",
   "execution_count": 328,
   "metadata": {},
   "outputs": [
    {
     "data": {
      "text/html": [
       "<div>\n",
       "<style scoped>\n",
       "    .dataframe tbody tr th:only-of-type {\n",
       "        vertical-align: middle;\n",
       "    }\n",
       "\n",
       "    .dataframe tbody tr th {\n",
       "        vertical-align: top;\n",
       "    }\n",
       "\n",
       "    .dataframe thead th {\n",
       "        text-align: right;\n",
       "    }\n",
       "</style>\n",
       "<table border=\"1\" class=\"dataframe\">\n",
       "  <thead>\n",
       "    <tr style=\"text-align: right;\">\n",
       "      <th></th>\n",
       "      <th>day_change</th>\n",
       "      <th>increase</th>\n",
       "      <th>date</th>\n",
       "    </tr>\n",
       "  </thead>\n",
       "  <tbody>\n",
       "    <tr>\n",
       "      <th>0</th>\n",
       "      <td>0.0975</td>\n",
       "      <td>1</td>\n",
       "      <td>2020-01-31</td>\n",
       "    </tr>\n",
       "    <tr>\n",
       "      <th>1</th>\n",
       "      <td>-0.9775</td>\n",
       "      <td>0</td>\n",
       "      <td>2020-01-30</td>\n",
       "    </tr>\n",
       "    <tr>\n",
       "      <th>2</th>\n",
       "      <td>2.9625</td>\n",
       "      <td>1</td>\n",
       "      <td>2020-01-29</td>\n",
       "    </tr>\n",
       "    <tr>\n",
       "      <th>3</th>\n",
       "      <td>0.6350</td>\n",
       "      <td>1</td>\n",
       "      <td>2020-01-28</td>\n",
       "    </tr>\n",
       "    <tr>\n",
       "      <th>4</th>\n",
       "      <td>-2.5475</td>\n",
       "      <td>0</td>\n",
       "      <td>2020-01-27</td>\n",
       "    </tr>\n",
       "    <tr>\n",
       "      <th>...</th>\n",
       "      <td>...</td>\n",
       "      <td>...</td>\n",
       "      <td>...</td>\n",
       "    </tr>\n",
       "    <tr>\n",
       "      <th>220</th>\n",
       "      <td>2.1800</td>\n",
       "      <td>1</td>\n",
       "      <td>2020-11-09</td>\n",
       "    </tr>\n",
       "    <tr>\n",
       "      <th>221</th>\n",
       "      <td>0.3700</td>\n",
       "      <td>1</td>\n",
       "      <td>2020-11-06</td>\n",
       "    </tr>\n",
       "    <tr>\n",
       "      <th>222</th>\n",
       "      <td>3.8100</td>\n",
       "      <td>1</td>\n",
       "      <td>2020-11-05</td>\n",
       "    </tr>\n",
       "    <tr>\n",
       "      <th>223</th>\n",
       "      <td>4.4800</td>\n",
       "      <td>1</td>\n",
       "      <td>2020-11-04</td>\n",
       "    </tr>\n",
       "    <tr>\n",
       "      <th>224</th>\n",
       "      <td>106.6600</td>\n",
       "      <td>1</td>\n",
       "      <td>2020-11-03</td>\n",
       "    </tr>\n",
       "  </tbody>\n",
       "</table>\n",
       "<p>225 rows × 3 columns</p>\n",
       "</div>"
      ],
      "text/plain": [
       "     day_change increase        date\n",
       "0        0.0975        1  2020-01-31\n",
       "1       -0.9775        0  2020-01-30\n",
       "2        2.9625        1  2020-01-29\n",
       "3        0.6350        1  2020-01-28\n",
       "4       -2.5475        0  2020-01-27\n",
       "..          ...      ...         ...\n",
       "220      2.1800        1  2020-11-09\n",
       "221      0.3700        1  2020-11-06\n",
       "222      3.8100        1  2020-11-05\n",
       "223      4.4800        1  2020-11-04\n",
       "224    106.6600        1  2020-11-03\n",
       "\n",
       "[225 rows x 3 columns]"
      ]
     },
     "execution_count": 328,
     "metadata": {},
     "output_type": "execute_result"
    }
   ],
   "source": [
    "df_res"
   ]
  },
  {
   "cell_type": "code",
   "execution_count": 329,
   "metadata": {},
   "outputs": [],
   "source": [
    "df_res[\"date\"]= pd.to_datetime(df_res[\"date\"])\n",
    "df_res = df_res.set_index('date')\n",
    "df_res.index = df_res.index.normalize()"
   ]
  },
  {
   "cell_type": "code",
   "execution_count": 342,
   "metadata": {},
   "outputs": [
    {
     "data": {
      "text/html": [
       "<div>\n",
       "<style scoped>\n",
       "    .dataframe tbody tr th:only-of-type {\n",
       "        vertical-align: middle;\n",
       "    }\n",
       "\n",
       "    .dataframe tbody tr th {\n",
       "        vertical-align: top;\n",
       "    }\n",
       "\n",
       "    .dataframe thead th {\n",
       "        text-align: right;\n",
       "    }\n",
       "</style>\n",
       "<table border=\"1\" class=\"dataframe\">\n",
       "  <thead>\n",
       "    <tr style=\"text-align: right;\">\n",
       "      <th></th>\n",
       "      <th>day_change</th>\n",
       "      <th>increase</th>\n",
       "    </tr>\n",
       "    <tr>\n",
       "      <th>date</th>\n",
       "      <th></th>\n",
       "      <th></th>\n",
       "    </tr>\n",
       "  </thead>\n",
       "  <tbody>\n",
       "    <tr>\n",
       "      <th>2020-01-31</th>\n",
       "      <td>0.0000</td>\n",
       "      <td>0</td>\n",
       "    </tr>\n",
       "    <tr>\n",
       "      <th>2020-01-30</th>\n",
       "      <td>0.0975</td>\n",
       "      <td>1</td>\n",
       "    </tr>\n",
       "    <tr>\n",
       "      <th>2020-01-29</th>\n",
       "      <td>-0.9775</td>\n",
       "      <td>0</td>\n",
       "    </tr>\n",
       "    <tr>\n",
       "      <th>2020-01-28</th>\n",
       "      <td>2.9625</td>\n",
       "      <td>1</td>\n",
       "    </tr>\n",
       "    <tr>\n",
       "      <th>2020-01-27</th>\n",
       "      <td>0.6350</td>\n",
       "      <td>1</td>\n",
       "    </tr>\n",
       "  </tbody>\n",
       "</table>\n",
       "</div>"
      ],
      "text/plain": [
       "            day_change increase\n",
       "date                           \n",
       "2020-01-31      0.0000        0\n",
       "2020-01-30      0.0975        1\n",
       "2020-01-29     -0.9775        0\n",
       "2020-01-28      2.9625        1\n",
       "2020-01-27      0.6350        1"
      ]
     },
     "execution_count": 342,
     "metadata": {},
     "output_type": "execute_result"
    }
   ],
   "source": [
    "targets2020 = df_res.shift(periods=1, fill_value=0)\n",
    "targets2020.head()"
   ]
  },
  {
   "cell_type": "code",
   "execution_count": 343,
   "metadata": {},
   "outputs": [],
   "source": [
    "targets2020.to_csv('yearly_targets/targets2020.csv')"
   ]
  },
  {
   "cell_type": "markdown",
   "metadata": {},
   "source": [
    "# Predict Sentiment for each Article with VADER"
   ]
  },
  {
   "cell_type": "code",
   "execution_count": 134,
   "metadata": {},
   "outputs": [],
   "source": [
    "from vaderSentiment.vaderSentiment import SentimentIntensityAnalyzer"
   ]
  },
  {
   "cell_type": "code",
   "execution_count": 135,
   "metadata": {},
   "outputs": [],
   "source": [
    "analyzer = SentimentIntensityAnalyzer()\n",
    "\n",
    "def sentiment_analyzer_scores(article):\n",
    "    '''\n",
    "    VADER Sentiment used to tag the.\n",
    "    Returns the predicted labels: positive/negative/neutral.\n",
    "    Instantiate analyzer before running this function:\n",
    "    analyzer = SentimentIntensityAnalyzer()\n",
    "    '''\n",
    "    global analyzer\n",
    "\n",
    "    score = analyzer.polarity_scores(article)\n",
    "\n",
    "    if score['compound'] >= .05:\n",
    "        sent = 'positive'\n",
    "    elif score['compound'] <= -.05:\n",
    "        sent = 'negative'\n",
    "    else:\n",
    "        sent = 'neutral'\n",
    "\n",
    "    return sent"
   ]
  },
  {
   "cell_type": "code",
   "execution_count": 148,
   "metadata": {},
   "outputs": [
    {
     "data": {
      "text/plain": [
       "'positive'"
      ]
     },
     "execution_count": 148,
     "metadata": {},
     "output_type": "execute_result"
    }
   ],
   "source": [
    "sentiment_analyzer_scores(df.cleaned_text[47])"
   ]
  },
  {
   "cell_type": "code",
   "execution_count": 159,
   "metadata": {},
   "outputs": [
    {
     "data": {
      "text/plain": [
       "'a texas court has ordered apple to pay more than 500 million roughly rs 3 742 crores in damages and interest for 4g patent infringements held by intellectual property company panoptis the us tech giant now worth almost 2 trillion roughly rs 1 49 70 000 crores vowed to appeal tuesday s decision we thank the jury for their time but are disappointed with the verdict and plan to appeal apple said in an email response to an afp inquiry lawsuits like this by companies who accumulate patents simply to harass the industry only serve to stifle innovation and harm consumers panoptis which specialises in licensing patents took apple to court in february last year claiming it refused to pay for the use of 4g lte technologies in its smartphones tablets and watches the complainant s have repeatedly negotiated with apple to reach an agreement for a frand license to the complainant s patent portfolios which apple is infringing the court filing read frand refers to terms that are fair reasonable and non discriminatory and is the it industry standard for technology use the negotiations have been unsuccessful because apple refuses to pay a frand royalty to the complainant s license apple argued unsuccessfully that the patents were invalid according to legal publications the case is one of many patent suits from licensing firms that make no products but hold rights to certain technologies critics call these firms patent trolls patent suits are typically filed in states where jurors have been found more inclined to rule against silicon valley giants the texas court has twice ruled against apple in the past demanding it pay hundreds of millions of dollars to virnetx another company specialising in patent litigation on its website panoptis offers to manage its clients patents allowing them to concentrate on innovation and new development is nord the iphone se of the oneplus world we discussed this on orbital our weekly technology podcast which you can subscribe to via apple podcasts google podcasts or rss download the episode or just hit the play button below'"
      ]
     },
     "execution_count": 159,
     "metadata": {},
     "output_type": "execute_result"
    }
   ],
   "source": [
    "df.cleaned_text[79]"
   ]
  },
  {
   "cell_type": "code",
   "execution_count": 151,
   "metadata": {},
   "outputs": [
    {
     "name": "stdout",
     "output_type": "stream",
     "text": [
      "0 positive\n",
      "1 positive\n",
      "2 negative\n",
      "3 positive\n",
      "4 positive\n",
      "5 positive\n",
      "6 positive\n",
      "7 positive\n",
      "8 positive\n",
      "9 positive\n",
      "10 positive\n",
      "11 positive\n",
      "12 positive\n",
      "13 positive\n",
      "14 negative\n",
      "15 positive\n",
      "16 positive\n",
      "17 positive\n",
      "18 positive\n",
      "19 positive\n",
      "20 negative\n",
      "21 positive\n",
      "22 negative\n",
      "23 positive\n",
      "24 positive\n",
      "25 positive\n",
      "26 positive\n",
      "27 positive\n",
      "28 positive\n",
      "29 positive\n",
      "30 positive\n",
      "31 positive\n",
      "32 positive\n",
      "33 positive\n",
      "34 positive\n",
      "35 positive\n",
      "36 positive\n",
      "37 negative\n",
      "38 negative\n",
      "39 positive\n",
      "40 positive\n",
      "41 positive\n",
      "42 positive\n",
      "43 positive\n",
      "44 positive\n",
      "45 positive\n",
      "46 positive\n",
      "47 positive\n",
      "48 positive\n",
      "49 positive\n",
      "50 positive\n",
      "51 positive\n",
      "52 positive\n",
      "53 positive\n",
      "54 positive\n",
      "55 positive\n",
      "56 positive\n",
      "57 negative\n",
      "58 negative\n",
      "59 negative\n",
      "60 positive\n",
      "61 negative\n",
      "62 positive\n",
      "63 positive\n",
      "64 positive\n",
      "65 positive\n",
      "66 positive\n",
      "67 positive\n",
      "68 positive\n",
      "69 positive\n",
      "70 positive\n",
      "71 negative\n",
      "72 positive\n",
      "73 negative\n",
      "74 negative\n",
      "75 positive\n",
      "76 positive\n",
      "77 positive\n",
      "78 positive\n",
      "79 negative\n",
      "80 positive\n",
      "81 positive\n",
      "82 positive\n",
      "83 positive\n",
      "84 positive\n",
      "85 positive\n",
      "86 positive\n",
      "87 positive\n",
      "88 positive\n",
      "89 positive\n",
      "90 positive\n",
      "91 positive\n",
      "92 positive\n",
      "93 positive\n",
      "94 positive\n",
      "95 positive\n",
      "96 positive\n",
      "97 positive\n",
      "98 positive\n",
      "99 positive\n",
      "100 positive\n",
      "101 positive\n",
      "102 positive\n",
      "103 positive\n",
      "104 positive\n",
      "105 positive\n",
      "106 positive\n",
      "107 positive\n",
      "108 positive\n",
      "109 positive\n",
      "110 positive\n",
      "111 positive\n",
      "112 positive\n",
      "113 negative\n",
      "114 positive\n",
      "115 negative\n",
      "116 positive\n",
      "117 positive\n",
      "118 positive\n",
      "119 positive\n",
      "120 negative\n",
      "121 negative\n",
      "122 positive\n",
      "123 positive\n",
      "124 positive\n",
      "125 positive\n",
      "126 positive\n",
      "127 positive\n",
      "128 positive\n",
      "129 positive\n",
      "130 positive\n",
      "131 positive\n",
      "132 positive\n",
      "133 positive\n",
      "134 neutral\n",
      "135 negative\n",
      "136 positive\n",
      "137 positive\n",
      "138 positive\n",
      "139 positive\n",
      "140 positive\n",
      "141 positive\n",
      "142 positive\n",
      "143 positive\n",
      "144 positive\n",
      "145 negative\n",
      "146 positive\n",
      "147 positive\n",
      "148 positive\n",
      "149 positive\n",
      "150 positive\n",
      "151 positive\n",
      "152 positive\n",
      "153 positive\n",
      "154 positive\n",
      "155 negative\n",
      "156 positive\n",
      "157 positive\n",
      "158 negative\n",
      "159 positive\n",
      "160 positive\n",
      "161 positive\n",
      "162 positive\n",
      "163 positive\n",
      "164 positive\n",
      "165 positive\n",
      "166 negative\n",
      "167 positive\n",
      "168 positive\n",
      "169 negative\n",
      "170 positive\n",
      "171 positive\n",
      "172 positive\n",
      "173 positive\n",
      "174 positive\n",
      "175 neutral\n",
      "176 positive\n",
      "177 positive\n",
      "178 positive\n",
      "179 positive\n",
      "180 positive\n",
      "181 positive\n",
      "182 positive\n",
      "183 positive\n",
      "184 positive\n",
      "185 positive\n",
      "186 positive\n",
      "187 positive\n",
      "188 positive\n",
      "189 positive\n",
      "190 positive\n",
      "191 positive\n",
      "192 positive\n",
      "193 positive\n",
      "194 negative\n",
      "195 positive\n",
      "196 positive\n",
      "197 negative\n",
      "198 positive\n",
      "199 negative\n"
     ]
    }
   ],
   "source": [
    "for i,art in enumerate(df.cleaned_text[:200]):\n",
    "    score = sentiment_analyzer_scores(art)\n",
    "    print(i, score)"
   ]
  },
  {
   "cell_type": "code",
   "execution_count": null,
   "metadata": {},
   "outputs": [],
   "source": []
  }
 ],
 "metadata": {
  "kernelspec": {
   "display_name": "learn-env",
   "language": "python",
   "name": "learn-env"
  },
  "language_info": {
   "codemirror_mode": {
    "name": "ipython",
    "version": 3
   },
   "file_extension": ".py",
   "mimetype": "text/x-python",
   "name": "python",
   "nbconvert_exporter": "python",
   "pygments_lexer": "ipython3",
   "version": "3.6.10"
  }
 },
 "nbformat": 4,
 "nbformat_minor": 4
}
