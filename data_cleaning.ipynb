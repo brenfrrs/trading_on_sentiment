{
 "cells": [
  {
   "cell_type": "code",
   "execution_count": 1,
   "metadata": {},
   "outputs": [],
   "source": [
    "import pandas as pd\n",
    "import numpy as np\n",
    "import datetime\n",
    "import re\n",
    "import matplotlib.pyplot as plt\n",
    "import time\n",
    "import seaborn as sns\n",
    "import pytz\n",
    "from nltk.probability import FreqDist\n",
    "from custom_scripts import *\n",
    "%matplotlib inline"
   ]
  },
  {
   "cell_type": "code",
   "execution_count": 2,
   "metadata": {},
   "outputs": [
    {
     "data": {
      "text/plain": [
       "(39512, 7)"
      ]
     },
     "execution_count": 2,
     "metadata": {},
     "output_type": "execute_result"
    }
   ],
   "source": [
    "df1 = pd.read_csv('yearly_articles/apple2020.csv', index_col=0)\n",
    "df2 = pd.read_csv('yearly_articles/apple2019.csv', index_col=0)\n",
    "df3 = pd.read_csv('yearly_articles/apple2018.csv', index_col=0)\n",
    "df4 = pd.read_csv('yearly_articles/apple2017.csv', index_col=0)\n",
    "df5 = pd.read_csv('yearly_articles/apple2016.csv', index_col=0)\n",
    "df6 = pd.read_csv('yearly_articles/apple2015.csv', index_col=0)\n",
    "df = pd.concat([df1,df2, df3, df4, df5, df6])\n",
    "df.dropna(subset=['fulltext'], inplace=True)\n",
    "df.shape"
   ]
  },
  {
   "cell_type": "markdown",
   "metadata": {},
   "source": [
    "# Clean newlines and special characters"
   ]
  },
  {
   "cell_type": "code",
   "execution_count": 3,
   "metadata": {},
   "outputs": [
    {
     "name": "stdout",
     "output_type": "stream",
     "text": [
      "CPU times: user 10.7 s, sys: 315 ms, total: 11 s\n",
      "Wall time: 11.4 s\n"
     ]
    }
   ],
   "source": [
    "%%time\n",
    "df['cleaned_text'] = df['fulltext'].apply(clean_text)\n",
    "df['cleaned_authors'] = df['author'].apply(clean_text)"
   ]
  },
  {
   "cell_type": "markdown",
   "metadata": {},
   "source": [
    "#### Changing the UTC time to EST."
   ]
  },
  {
   "cell_type": "code",
   "execution_count": 4,
   "metadata": {},
   "outputs": [],
   "source": [
    "#Change to Datetime\n",
    "df[\"date\"]= pd.to_datetime(df[\"date\"])\n",
    "df = df.set_index('date')\n",
    "df.index = df.index.normalize()"
   ]
  },
  {
   "cell_type": "code",
   "execution_count": 5,
   "metadata": {},
   "outputs": [
    {
     "name": "stdout",
     "output_type": "stream",
     "text": [
      "CPU times: user 280 ms, sys: 8.35 ms, total: 289 ms\n",
      "Wall time: 303 ms\n"
     ]
    }
   ],
   "source": [
    "%%time\n",
    "#convert DateTime index to eastern time. \n",
    "eastern = pytz.timezone('US/Eastern')\n",
    "df.index = df.index.tz_convert(eastern).tz_localize(None)\n",
    "#put into year/month/day format\n",
    "df.index = df.index.strftime('%Y-%m-%d')"
   ]
  },
  {
   "cell_type": "markdown",
   "metadata": {},
   "source": [
    "# Using [tldextract](https://pypi.org/project/tldextract/) to extract company names from url's"
   ]
  },
  {
   "cell_type": "code",
   "execution_count": 6,
   "metadata": {},
   "outputs": [
    {
     "name": "stdout",
     "output_type": "stream",
     "text": [
      "The dataset contains 39512 different articles from 448 news outlets \n",
      "\n",
      "CPU times: user 431 ms, sys: 15.2 ms, total: 446 ms\n",
      "Wall time: 468 ms\n"
     ]
    }
   ],
   "source": [
    "%%time\n",
    "df['news_outlet'] = df['source'].apply(get_outlet)\n",
    "print('The dataset contains {} different articles from {} news outlets \\n'.format(df.shape[0],df.news_outlet.nunique()))"
   ]
  },
  {
   "cell_type": "markdown",
   "metadata": {},
   "source": [
    "# Getting historical Stock Prices"
   ]
  },
  {
   "cell_type": "code",
   "execution_count": null,
   "metadata": {},
   "outputs": [],
   "source": [
    "years_we_need = [2015, 2016, 2017, 2018, 2019, 2020]\n",
    "\n",
    "full_date_list = []\n",
    "\n",
    "for year in years_we_need:\n",
    "    res = get_month_day_range(year)\n",
    "    full_date_list += res"
   ]
  },
  {
   "cell_type": "code",
   "execution_count": null,
   "metadata": {},
   "outputs": [],
   "source": [
    "historical_prices = get_past_prices(full_date_list, 'AAPL')"
   ]
  },
  {
   "cell_type": "markdown",
   "metadata": {},
   "source": [
    "The loop below iterates through the historical prices and calculates the change in a stock price from one open to another. Adding a 0 if the stock decreased or there was not change, and adding a 1 if the stock increased. This is an initial tagging step, the threshold for targets can be adjusted later using the 'day_change' column."
   ]
  },
  {
   "cell_type": "code",
   "execution_count": null,
   "metadata": {},
   "outputs": [],
   "source": [
    "prices_index = historical_prices.index.strftime('%Y-%m-%d').to_list()"
   ]
  },
  {
   "cell_type": "code",
   "execution_count": null,
   "metadata": {},
   "outputs": [],
   "source": [
    "df_res = pd.DataFrame(columns = ['day_change', 'increase', 'date'])\n",
    "for i,stock_price in enumerate(prices_index):\n",
    "    try:\n",
    "        start = historical_prices.loc[prices_index[i]].open[0]\n",
    "        stop = historical_prices.loc[prices_index[i+1]].open[0]\n",
    "        direction = start - stop\n",
    "        if direction < 0:\n",
    "            increase = 0\n",
    "        else:\n",
    "            increase = 1\n",
    "        df_res = df_res.append({'day_change': direction, 'increase':increase, 'date':stock_price}, ignore_index=True)\n",
    "    except:\n",
    "        continue"
   ]
  },
  {
   "cell_type": "code",
   "execution_count": null,
   "metadata": {},
   "outputs": [],
   "source": [
    "df_res[\"date\"]= pd.to_datetime(df_res[\"date\"])\n",
    "df_res = df_res.set_index('date')"
   ]
  },
  {
   "cell_type": "code",
   "execution_count": null,
   "metadata": {},
   "outputs": [],
   "source": [
    "df_res.head(3)"
   ]
  },
  {
   "cell_type": "code",
   "execution_count": null,
   "metadata": {},
   "outputs": [],
   "source": [
    "#shift all targets by one day because we want to predict one day in the future.\n",
    "targets = df_res.shift(periods=1, fill_value=0)\n",
    "targets.head()"
   ]
  },
  {
   "cell_type": "code",
   "execution_count": null,
   "metadata": {},
   "outputs": [],
   "source": [
    "#merge the historical prices with the daily change we calculated and the targets. \n",
    "targs=pd.merge(targets,historical_prices, how='outer', left_index=True, right_index=True)"
   ]
  },
  {
   "cell_type": "code",
   "execution_count": null,
   "metadata": {},
   "outputs": [],
   "source": [
    "targs.head(4)"
   ]
  },
  {
   "cell_type": "code",
   "execution_count": 7,
   "metadata": {},
   "outputs": [],
   "source": [
    "#########\n",
    "targs = pd.read_csv('targs.csv', index_col=0)"
   ]
  },
  {
   "cell_type": "code",
   "execution_count": 8,
   "metadata": {},
   "outputs": [],
   "source": [
    "#Merge targets and main data on the date\n",
    "df=pd.merge(df,targs, how='outer', left_index=True, right_index=True)"
   ]
  },
  {
   "cell_type": "markdown",
   "metadata": {},
   "source": [
    "To account for weekends and holidays when the market is closed. Forward filling of the previous non-NA value is used. "
   ]
  },
  {
   "cell_type": "code",
   "execution_count": 9,
   "metadata": {},
   "outputs": [],
   "source": [
    "df.fillna(method='ffill', inplace = True)\n",
    "\n",
    "#Drop the few late 2014 values where we have not price data. \n",
    "df.dropna(subset=['increase', 'open', 'high', 'low', 'close'], inplace = True)"
   ]
  },
  {
   "cell_type": "markdown",
   "metadata": {},
   "source": [
    "# Predict Sentiment for each Article with VADER"
   ]
  },
  {
   "cell_type": "code",
   "execution_count": 12,
   "metadata": {},
   "outputs": [
    {
     "name": "stdout",
     "output_type": "stream",
     "text": [
      "CPU times: user 13min 39s, sys: 13.6 s, total: 13min 52s\n",
      "Wall time: 14min 14s\n"
     ]
    }
   ],
   "source": [
    "%%time\n",
    "\n",
    "#tag the sentiment for each article using VADER. This will take a few minutes.\n",
    "df['sentiment'] = df['fulltext'].apply(sentiment_analyzer_scores)"
   ]
  },
  {
   "cell_type": "code",
   "execution_count": 13,
   "metadata": {},
   "outputs": [
    {
     "data": {
      "image/png": "[encoded data removed]",
      "text/plain": [
       "<Figure size 432x288 with 1 Axes>"
      ]
     },
     "metadata": {
      "needs_background": "light"
     },
     "output_type": "display_data"
    }
   ],
   "source": [
    "#visualize the sentiment distributions.\n",
    "sns.countplot(df.sentiment);"
   ]
  },
  {
   "cell_type": "markdown",
   "metadata": {},
   "source": [
    "After predicting sentiment of the article, dummy the sentiment column."
   ]
  },
  {
   "cell_type": "code",
   "execution_count": 14,
   "metadata": {},
   "outputs": [],
   "source": [
    "sentiment_dummies = pd.get_dummies(df['sentiment'], prefix='sent')\n",
    "df = pd.concat([df, sentiment_dummies], axis=1)"
   ]
  },
  {
   "cell_type": "code",
   "execution_count": 15,
   "metadata": {},
   "outputs": [
    {
     "data": {
      "text/html": [
       "<div>\n",
       "<style scoped>\n",
       "    .dataframe tbody tr th:only-of-type {\n",
       "        vertical-align: middle;\n",
       "    }\n",
       "\n",
       "    .dataframe tbody tr th {\n",
       "        vertical-align: top;\n",
       "    }\n",
       "\n",
       "    .dataframe thead th {\n",
       "        text-align: right;\n",
       "    }\n",
       "</style>\n",
       "<table border=\"1\" class=\"dataframe\">\n",
       "  <thead>\n",
       "    <tr style=\"text-align: right;\">\n",
       "      <th></th>\n",
       "      <th>update</th>\n",
       "      <th>source</th>\n",
       "      <th>author</th>\n",
       "      <th>fulltext</th>\n",
       "      <th>summary</th>\n",
       "      <th>title</th>\n",
       "      <th>cleaned_text</th>\n",
       "      <th>cleaned_authors</th>\n",
       "      <th>news_outlet</th>\n",
       "      <th>day_change</th>\n",
       "      <th>increase</th>\n",
       "      <th>open</th>\n",
       "      <th>high</th>\n",
       "      <th>low</th>\n",
       "      <th>close</th>\n",
       "      <th>volume</th>\n",
       "      <th>sentiment</th>\n",
       "      <th>sent_negative</th>\n",
       "      <th>sent_neutral</th>\n",
       "      <th>sent_positive</th>\n",
       "    </tr>\n",
       "  </thead>\n",
       "  <tbody>\n",
       "    <tr>\n",
       "      <th>2015-01-02</th>\n",
       "      <td>2015-01-03 00:00:00</td>\n",
       "      <td>http://mg.co.za/article/2015-01-03-storage-war...</td>\n",
       "      <td>['Staff Reporter']</td>\n",
       "      <td>Apple on Friday faced a lawsuit accusing it of...</td>\n",
       "      <td>NaN</td>\n",
       "      <td>Storage war: Lawsuit accuses Apple of deceivin...</td>\n",
       "      <td>apple on friday faced a lawsuit accusing it of...</td>\n",
       "      <td>staff reporter</td>\n",
       "      <td>mg</td>\n",
       "      <td>-0.775</td>\n",
       "      <td>0.0</td>\n",
       "      <td>27.8475</td>\n",
       "      <td>27.86</td>\n",
       "      <td>26.8375</td>\n",
       "      <td>27.3325</td>\n",
       "      <td>53204600.0</td>\n",
       "      <td>negative</td>\n",
       "      <td>1</td>\n",
       "      <td>0</td>\n",
       "      <td>0</td>\n",
       "    </tr>\n",
       "    <tr>\n",
       "      <th>2015-01-02</th>\n",
       "      <td>2015-01-03 00:00:00</td>\n",
       "      <td>http://www.independent.ie/business/technology/...</td>\n",
       "      <td>[]</td>\n",
       "      <td>Apple is being sued for lack of storage space ...</td>\n",
       "      <td>NaN</td>\n",
       "      <td>Apple sued over lack of storage space on devices</td>\n",
       "      <td>apple is being sued for lack of storage space ...</td>\n",
       "      <td></td>\n",
       "      <td>independent</td>\n",
       "      <td>-0.775</td>\n",
       "      <td>0.0</td>\n",
       "      <td>27.8475</td>\n",
       "      <td>27.86</td>\n",
       "      <td>26.8375</td>\n",
       "      <td>27.3325</td>\n",
       "      <td>53204600.0</td>\n",
       "      <td>negative</td>\n",
       "      <td>1</td>\n",
       "      <td>0</td>\n",
       "      <td>0</td>\n",
       "    </tr>\n",
       "    <tr>\n",
       "      <th>2015-01-02</th>\n",
       "      <td>2015-01-03 03:24:55+00:00</td>\n",
       "      <td>http://www.inquisitr.com/1723450/iphone-6-plus...</td>\n",
       "      <td>['Patrick Frye']</td>\n",
       "      <td>An iPhone 6 Plus memory lawsuit is claiming th...</td>\n",
       "      <td>NaN</td>\n",
       "      <td>iPhone 6 Plus Memory Lawsuit Claims Apple Give...</td>\n",
       "      <td>an iphone 6 plus memory lawsuit is claiming th...</td>\n",
       "      <td>patrick frye</td>\n",
       "      <td>inquisitr</td>\n",
       "      <td>-0.775</td>\n",
       "      <td>0.0</td>\n",
       "      <td>27.8475</td>\n",
       "      <td>27.86</td>\n",
       "      <td>26.8375</td>\n",
       "      <td>27.3325</td>\n",
       "      <td>53204600.0</td>\n",
       "      <td>negative</td>\n",
       "      <td>1</td>\n",
       "      <td>0</td>\n",
       "      <td>0</td>\n",
       "    </tr>\n",
       "    <tr>\n",
       "      <th>2015-01-02</th>\n",
       "      <td>2015-01-03 03:24:55+00:00</td>\n",
       "      <td>http://www.abs-cbnnews.com/business/01/03/15/l...</td>\n",
       "      <td>['Agence France-Presse']</td>\n",
       "      <td>SAN FRANCISCO - Apple on Friday faced a lawsui...</td>\n",
       "      <td>NaN</td>\n",
       "      <td>Lawsuit accuses Apple of storage sleight of hand</td>\n",
       "      <td>san francisco apple on friday faced a lawsuit ...</td>\n",
       "      <td>agence france presse</td>\n",
       "      <td>abs-cbnnews</td>\n",
       "      <td>-0.775</td>\n",
       "      <td>0.0</td>\n",
       "      <td>27.8475</td>\n",
       "      <td>27.86</td>\n",
       "      <td>26.8375</td>\n",
       "      <td>27.3325</td>\n",
       "      <td>53204600.0</td>\n",
       "      <td>negative</td>\n",
       "      <td>1</td>\n",
       "      <td>0</td>\n",
       "      <td>0</td>\n",
       "    </tr>\n",
       "    <tr>\n",
       "      <th>2015-01-02</th>\n",
       "      <td>2015-01-03 00:00:00</td>\n",
       "      <td>http://www.euronews.com/2015/01/03/consumers-s...</td>\n",
       "      <td>[]</td>\n",
       "      <td>Two Florida-based consumers have launched a la...</td>\n",
       "      <td>NaN</td>\n",
       "      <td>Consumers sue saying not-so-big Apple made fal...</td>\n",
       "      <td>two florida based consumers have launched a la...</td>\n",
       "      <td></td>\n",
       "      <td>euronews</td>\n",
       "      <td>-0.775</td>\n",
       "      <td>0.0</td>\n",
       "      <td>27.8475</td>\n",
       "      <td>27.86</td>\n",
       "      <td>26.8375</td>\n",
       "      <td>27.3325</td>\n",
       "      <td>53204600.0</td>\n",
       "      <td>negative</td>\n",
       "      <td>1</td>\n",
       "      <td>0</td>\n",
       "      <td>0</td>\n",
       "    </tr>\n",
       "  </tbody>\n",
       "</table>\n",
       "</div>"
      ],
      "text/plain": [
       "                               update  \\\n",
       "2015-01-02        2015-01-03 00:00:00   \n",
       "2015-01-02        2015-01-03 00:00:00   \n",
       "2015-01-02  2015-01-03 03:24:55+00:00   \n",
       "2015-01-02  2015-01-03 03:24:55+00:00   \n",
       "2015-01-02        2015-01-03 00:00:00   \n",
       "\n",
       "                                                       source  \\\n",
       "2015-01-02  http://mg.co.za/article/2015-01-03-storage-war...   \n",
       "2015-01-02  http://www.independent.ie/business/technology/...   \n",
       "2015-01-02  http://www.inquisitr.com/1723450/iphone-6-plus...   \n",
       "2015-01-02  http://www.abs-cbnnews.com/business/01/03/15/l...   \n",
       "2015-01-02  http://www.euronews.com/2015/01/03/consumers-s...   \n",
       "\n",
       "                              author  \\\n",
       "2015-01-02        ['Staff Reporter']   \n",
       "2015-01-02                        []   \n",
       "2015-01-02          ['Patrick Frye']   \n",
       "2015-01-02  ['Agence France-Presse']   \n",
       "2015-01-02                        []   \n",
       "\n",
       "                                                     fulltext  summary  \\\n",
       "2015-01-02  Apple on Friday faced a lawsuit accusing it of...      NaN   \n",
       "2015-01-02  Apple is being sued for lack of storage space ...      NaN   \n",
       "2015-01-02  An iPhone 6 Plus memory lawsuit is claiming th...      NaN   \n",
       "2015-01-02  SAN FRANCISCO - Apple on Friday faced a lawsui...      NaN   \n",
       "2015-01-02  Two Florida-based consumers have launched a la...      NaN   \n",
       "\n",
       "                                                        title  \\\n",
       "2015-01-02  Storage war: Lawsuit accuses Apple of deceivin...   \n",
       "2015-01-02   Apple sued over lack of storage space on devices   \n",
       "2015-01-02  iPhone 6 Plus Memory Lawsuit Claims Apple Give...   \n",
       "2015-01-02   Lawsuit accuses Apple of storage sleight of hand   \n",
       "2015-01-02  Consumers sue saying not-so-big Apple made fal...   \n",
       "\n",
       "                                                 cleaned_text  \\\n",
       "2015-01-02  apple on friday faced a lawsuit accusing it of...   \n",
       "2015-01-02  apple is being sued for lack of storage space ...   \n",
       "2015-01-02  an iphone 6 plus memory lawsuit is claiming th...   \n",
       "2015-01-02  san francisco apple on friday faced a lawsuit ...   \n",
       "2015-01-02  two florida based consumers have launched a la...   \n",
       "\n",
       "                 cleaned_authors  news_outlet  day_change  increase     open  \\\n",
       "2015-01-02        staff reporter           mg      -0.775       0.0  27.8475   \n",
       "2015-01-02                        independent      -0.775       0.0  27.8475   \n",
       "2015-01-02          patrick frye    inquisitr      -0.775       0.0  27.8475   \n",
       "2015-01-02  agence france presse  abs-cbnnews      -0.775       0.0  27.8475   \n",
       "2015-01-02                           euronews      -0.775       0.0  27.8475   \n",
       "\n",
       "             high      low    close      volume sentiment  sent_negative  \\\n",
       "2015-01-02  27.86  26.8375  27.3325  53204600.0  negative              1   \n",
       "2015-01-02  27.86  26.8375  27.3325  53204600.0  negative              1   \n",
       "2015-01-02  27.86  26.8375  27.3325  53204600.0  negative              1   \n",
       "2015-01-02  27.86  26.8375  27.3325  53204600.0  negative              1   \n",
       "2015-01-02  27.86  26.8375  27.3325  53204600.0  negative              1   \n",
       "\n",
       "            sent_neutral  sent_positive  \n",
       "2015-01-02             0              0  \n",
       "2015-01-02             0              0  \n",
       "2015-01-02             0              0  \n",
       "2015-01-02             0              0  \n",
       "2015-01-02             0              0  "
      ]
     },
     "execution_count": 15,
     "metadata": {},
     "output_type": "execute_result"
    }
   ],
   "source": [
    "df.head(2)"
   ]
  },
  {
   "cell_type": "markdown",
   "metadata": {},
   "source": [
    "# Tokenize"
   ]
  },
  {
   "cell_type": "code",
   "execution_count": 16,
   "metadata": {},
   "outputs": [],
   "source": [
    "df['tokens'] = df['cleaned_text'].apply(toke)"
   ]
  },
  {
   "cell_type": "markdown",
   "metadata": {},
   "source": [
    "# Lemmatize/Stop Word Removal"
   ]
  },
  {
   "cell_type": "code",
   "execution_count": 17,
   "metadata": {},
   "outputs": [],
   "source": [
    "from nltk.corpus import stopwords"
   ]
  },
  {
   "cell_type": "code",
   "execution_count": 18,
   "metadata": {},
   "outputs": [],
   "source": [
    "stop_words=list(set(stopwords.words(\"english\")))"
   ]
  },
  {
   "cell_type": "code",
   "execution_count": 19,
   "metadata": {},
   "outputs": [],
   "source": [
    "eda_stopwords = [\n",
    "    'x', 'u', \"'\", 'e', 'a', 'i', 'n', 'u', 'd', 'c', 'p', 's', 'i',\n",
    "    'o', 'r', 't', 'journalism', 'support', 'u', 'editor', 'fair', 'informed',\n",
    "    'cookie', 'miamiaccording', 'article', 'expired', 'no', 'longer', 'want',\n",
    "    'search', 'google', 'every', 'term', 'newswire', 'subscribe', 'button', 'close',\n",
    "    'accept', 'goal', 'achieve', 'u', 'subscribed', 'many', 'continue', 'offer',\n",
    "    'hard', 'provide', 'dear', 'reader', 'standard', 'always', 'strived', 'miamiinterested',\n",
    "    'adopting', 'pet', 'gazing', 'lovable', 'pup', 'adoption', 'dog', 'animal', 'shelter',\n",
    "    'ziprecruiter', 'miami', 'policy', 'clicking', 'explicit', 'consent',\n",
    "    'please', 'see', 'even', 'better', 'relevant', 'goal', 'le', 'u,', 'philip', 'schiller',\n",
    "    'believe', 'getty', 'josh', 'edelson', 'topical', 'issue', 'relevance',\n",
    "    'seen', 'man', 'forward', 'dunkin', 'late', 'wife', 'bagelsee', 'rental', 'site', 'zumper',\n",
    "    'quarantinefind', 'irvine', 'using', 'yelp', 'find', 'devon', 'horse', 'show',\n",
    "    'urge', 'turn', 'ad', 'blocker', 'telegraph', 'barbecue', 'stop', 'crunched',\n",
    "    'porch', 'ebay', 'amazon', 'curry', 'weeknightsset', 'easy', 'dinner', 'matter', 'partner',\n",
    "    'find', 'detailed', 'description', 'apartment', 'got', 'news', 'mission', 'day', 'impersonal',\n",
    "    'get', 'tip', 'top', 'mirror', 'newsletter', 'sign', 'thank', 'subscribing',\n",
    "    'newsletter', 'invalid', 'full', 'swing', 'keen', 'get', 'hand', 'high', 'street',\n",
    "    'john', 'lewis', 'curry', 'ton', 'currently', 'available', 'actual', 'check', 'back', 'also', 'honor',\n",
    "    'writer', 'try', 'put', 'apartment', 'rent', 'via', 'go', 'rounded', 'dog', 'shelter', 'pup',\n",
    "    'dozen', 'donut', 'south', 'targeted', 'practise', 'floridado', 'love', 'florida', 'doggy',\n",
    "    'cancer', 'hide', 'caption', 'cooky', 'browser', 'sauce', 'pandemicthe',\n",
    "    'something', 'penguina', 'eagle', 'email', 'notification', 'irvinein', 'hoodline',\n",
    "    'recipe', 'perfect', 'meal', 'googlethe', 'v', 'doggy', 'delightful',\n",
    "    'place', 'live', 'retire', 'takeout', 'youtubethe', 'barnes', 'museum',\n",
    "    'cooking', 'nonstick', 'cookware', 'pretzelslearn', 'homemade', 'soft',\n",
    "    'collectionsmany', 'franklin', 'u', 'gotten', 'tour', 'familiesthis',\n",
    "    'best', 'spot', 'noticed', 'adblocking', 'help', 'fund', 'award', 'winning',\n",
    "    'image', 'curry', 'ton', 'miamimiami', 'new', 'jersey', 'photographer',\n",
    "    'authoritative', 'apartment', 'cheapest', 'downtown', 'bedroom', 'adventure',\n",
    "    'aquarium', 'artwork', 'pretzel', 'click', 'play', 'tap', 'play',\n",
    "    'aught', 'newsletter', 'pear', 'david', 'nield', 'gizmodo', 'pic', 'twitter',\n",
    "    'com', 'thimbleweed', 'monument', 'pas', 'afp', 'u', 'prepear' \n",
    "]\n",
    "\n",
    "\n",
    "stop_words.extend(eda_stopwords)"
   ]
  },
  {
   "cell_type": "code",
   "execution_count": 20,
   "metadata": {},
   "outputs": [],
   "source": [
    "def remove_stopwords(text):\n",
    "    return [word for word in text if word not in stop_words]"
   ]
  },
  {
   "cell_type": "code",
   "execution_count": 26,
   "metadata": {},
   "outputs": [
    {
     "name": "stdout",
     "output_type": "stream",
     "text": [
      "Completed: <function remove_stopwords at 0x7f9cf211a158>\n",
      "Completed: <function lemmatize_text at 0x7f9cf5af6840>\n",
      "Completed: <function unlist at 0x7f9cf5af6730>\n"
     ]
    }
   ],
   "source": [
    "pre_process = [remove_stopwords, lemmatize_text, unlist]\n",
    "\n",
    "for action in pre_process:\n",
    "    df.tokens = df.tokens.apply(action)\n",
    "    print('Completed: {}'.format(str(action)))"
   ]
  },
  {
   "cell_type": "code",
   "execution_count": 29,
   "metadata": {},
   "outputs": [],
   "source": [
    "df.drop_duplicates(subset=['tokens'], inplace=True)"
   ]
  },
  {
   "cell_type": "markdown",
   "metadata": {},
   "source": [
    "# Aggregate the daily news articles"
   ]
  },
  {
   "cell_type": "markdown",
   "metadata": {},
   "source": [
    "We will perform modeling on the aggregated article text per day. Our data is in a format that has each row as a new article, we want to aggregate all of the articles on a given day into a single row."
   ]
  },
  {
   "cell_type": "code",
   "execution_count": 91,
   "metadata": {},
   "outputs": [],
   "source": [
    "agged = df.copy()\n",
    "agged.reset_index(inplace=True)\n",
    "agged['date'] = pd.to_datetime(agged['index'])\n",
    "agged.drop('index', axis=1, inplace=True)"
   ]
  },
  {
   "cell_type": "code",
   "execution_count": 92,
   "metadata": {},
   "outputs": [],
   "source": [
    "#Add a column of 1's for when we aggregate all info into one column, we can add the 1's later to get the total articles per day. \n",
    "df['total_articles'] = 1"
   ]
  },
  {
   "cell_type": "code",
   "execution_count": 93,
   "metadata": {},
   "outputs": [],
   "source": [
    "sentiment = agged.groupby('date')['sent_negative', 'sent_positive', 'total_articles'].agg(np.sum)\n",
    "text = agged.groupby('date')['tokens'].agg(''.join)"
   ]
  },
  {
   "cell_type": "code",
   "execution_count": 94,
   "metadata": {},
   "outputs": [],
   "source": [
    "agged = pd.merge(text, sentiment, how='inner', left_index=True, right_index=True)\n",
    "#Merge targets\n",
    "agged = pd.merge(agged, targs, how='inner', left_index=True, right_index=True)"
   ]
  },
  {
   "cell_type": "code",
   "execution_count": 95,
   "metadata": {},
   "outputs": [
    {
     "data": {
      "text/html": [
       "<div>\n",
       "<style scoped>\n",
       "    .dataframe tbody tr th:only-of-type {\n",
       "        vertical-align: middle;\n",
       "    }\n",
       "\n",
       "    .dataframe tbody tr th {\n",
       "        vertical-align: top;\n",
       "    }\n",
       "\n",
       "    .dataframe thead th {\n",
       "        text-align: right;\n",
       "    }\n",
       "</style>\n",
       "<table border=\"1\" class=\"dataframe\">\n",
       "  <thead>\n",
       "    <tr style=\"text-align: right;\">\n",
       "      <th></th>\n",
       "      <th>tokens</th>\n",
       "      <th>sent_negative</th>\n",
       "      <th>sent_positive</th>\n",
       "      <th>total_articles</th>\n",
       "      <th>day_change</th>\n",
       "      <th>increase</th>\n",
       "      <th>open</th>\n",
       "      <th>high</th>\n",
       "      <th>low</th>\n",
       "      <th>close</th>\n",
       "      <th>volume</th>\n",
       "    </tr>\n",
       "  </thead>\n",
       "  <tbody>\n",
       "    <tr>\n",
       "      <th>2015-01-02</th>\n",
       "      <td>apple, friday, faced, lawsuit, accusing, promi...</td>\n",
       "      <td>5</td>\n",
       "      <td>2</td>\n",
       "      <td>7</td>\n",
       "      <td>-0.7750</td>\n",
       "      <td>0.0</td>\n",
       "      <td>27.8475</td>\n",
       "      <td>27.8600</td>\n",
       "      <td>26.8375</td>\n",
       "      <td>27.3325</td>\n",
       "      <td>53204600</td>\n",
       "    </tr>\n",
       "    <tr>\n",
       "      <th>2015-01-05</th>\n",
       "      <td>heard, much, hyped, apple, watch, would, arriv...</td>\n",
       "      <td>2</td>\n",
       "      <td>11</td>\n",
       "      <td>13</td>\n",
       "      <td>-0.4375</td>\n",
       "      <td>0.0</td>\n",
       "      <td>27.0725</td>\n",
       "      <td>27.1625</td>\n",
       "      <td>26.3525</td>\n",
       "      <td>26.5625</td>\n",
       "      <td>64285500</td>\n",
       "    </tr>\n",
       "    <tr>\n",
       "      <th>2015-01-06</th>\n",
       "      <td>apple, watch, announced, company, showy, mediu...</td>\n",
       "      <td>1</td>\n",
       "      <td>13</td>\n",
       "      <td>14</td>\n",
       "      <td>0.1650</td>\n",
       "      <td>1.0</td>\n",
       "      <td>26.6350</td>\n",
       "      <td>26.8575</td>\n",
       "      <td>26.1575</td>\n",
       "      <td>26.5650</td>\n",
       "      <td>65797100</td>\n",
       "    </tr>\n",
       "    <tr>\n",
       "      <th>2015-01-07</th>\n",
       "      <td>free, sends, biggest, headline, sport, showbiz...</td>\n",
       "      <td>2</td>\n",
       "      <td>15</td>\n",
       "      <td>17</td>\n",
       "      <td>0.5075</td>\n",
       "      <td>1.0</td>\n",
       "      <td>26.8000</td>\n",
       "      <td>27.0500</td>\n",
       "      <td>26.6750</td>\n",
       "      <td>26.9375</td>\n",
       "      <td>40105900</td>\n",
       "    </tr>\n",
       "  </tbody>\n",
       "</table>\n",
       "</div>"
      ],
      "text/plain": [
       "                                                       tokens  sent_negative  \\\n",
       "2015-01-02  apple, friday, faced, lawsuit, accusing, promi...              5   \n",
       "2015-01-05  heard, much, hyped, apple, watch, would, arriv...              2   \n",
       "2015-01-06  apple, watch, announced, company, showy, mediu...              1   \n",
       "2015-01-07  free, sends, biggest, headline, sport, showbiz...              2   \n",
       "\n",
       "            sent_positive  total_articles  day_change  increase     open  \\\n",
       "2015-01-02              2               7     -0.7750       0.0  27.8475   \n",
       "2015-01-05             11              13     -0.4375       0.0  27.0725   \n",
       "2015-01-06             13              14      0.1650       1.0  26.6350   \n",
       "2015-01-07             15              17      0.5075       1.0  26.8000   \n",
       "\n",
       "               high      low    close    volume  \n",
       "2015-01-02  27.8600  26.8375  27.3325  53204600  \n",
       "2015-01-05  27.1625  26.3525  26.5625  64285500  \n",
       "2015-01-06  26.8575  26.1575  26.5650  65797100  \n",
       "2015-01-07  27.0500  26.6750  26.9375  40105900  "
      ]
     },
     "execution_count": 95,
     "metadata": {},
     "output_type": "execute_result"
    }
   ],
   "source": [
    "agged.head(2)"
   ]
  },
  {
   "cell_type": "markdown",
   "metadata": {},
   "source": [
    "# Save the cleaned dataframe "
   ]
  },
  {
   "cell_type": "markdown",
   "metadata": {},
   "source": [
    "This dataframe will be used in the modeling process."
   ]
  },
  {
   "cell_type": "code",
   "execution_count": 97,
   "metadata": {},
   "outputs": [],
   "source": [
    "agged.to_pickle('maindf.pkl')"
   ]
  },
  {
   "cell_type": "code",
   "execution_count": 82,
   "metadata": {},
   "outputs": [],
   "source": [
    "df.to_pickle('main_data/seperated_data.pkl')"
   ]
  }
 ],
 "metadata": {
  "kernelspec": {
   "display_name": "learn-env",
   "language": "python",
   "name": "learn-env"
  },
  "language_info": {
   "codemirror_mode": {
    "name": "ipython",
    "version": 3
   },
   "file_extension": ".py",
   "mimetype": "text/x-python",
   "name": "python",
   "nbconvert_exporter": "python",
   "pygments_lexer": "ipython3",
   "version": "3.6.10"
  }
 },
 "nbformat": 4,
 "nbformat_minor": 4
}
